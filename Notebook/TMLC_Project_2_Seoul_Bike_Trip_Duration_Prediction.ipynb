{
  "nbformat": 4,
  "nbformat_minor": 0,
  "metadata": {
    "colab": {
      "name": "TMLC - Project 2 - Seoul Bike Trip Duration Prediction.ipynb",
      "provenance": [],
      "collapsed_sections": []
    },
    "kernelspec": {
      "display_name": "Python 3",
      "name": "python3"
    },
    "language_info": {
      "name": "python"
    }
  },
  "cells": [
    {
      "cell_type": "markdown",
      "metadata": {
        "id": "fHv-hwf2qRjR"
      },
      "source": [
        "# **Project 2 - Seoul Bike Trip Duration Prediction**"
      ]
    },
    {
      "cell_type": "markdown",
      "metadata": {
        "id": "UxycI1E2qRcu"
      },
      "source": [
        "**Description** - Trip duration is the most fundamental measure in all modes of transportation.\n",
        "Hence, it is crucial to predict the trip-time precisely for the advancement of Intelligent\n",
        "Transport Systems (ITS) and traveller information systems. In order to predict the trip\n",
        "duration, data mining techniques are employed in this paper to predict the trip duration of\n",
        "rental bikes in Seoul Bike sharing system. The prediction is carried out with the combination\n",
        "of Seoul Bike data and weather data. The Data used include trip duration, trip distance,\n",
        "pickup-drop-off latitude and longitude, temperature, precipitation, wind speed, humidity, solar\n",
        "radiation, snowfall, ground temperature and 1-hour average dust concentration.\n",
        "\n",
        "Four performance metrics Root mean squared error, Coefficient of Variance, Mean Absolute\n",
        "Error and Median Absolute Error can be used to determine the efficiency of the models\n",
        "\n",
        "**Tasks** – EDA, Pre-processing, Modelling, Feature Engineering, Evaluation, explainability, Deployment"
      ]
    },
    {
      "cell_type": "markdown",
      "metadata": {
        "id": "4CuJqd6cAca3"
      },
      "source": [
        "# **Data Exploration and Preprocessing**"
      ]
    },
    {
      "cell_type": "code",
      "metadata": {
        "id": "TjvSSpZEqGcJ"
      },
      "source": [
        "import pandas as pd"
      ],
      "execution_count": 1,
      "outputs": []
    },
    {
      "cell_type": "code",
      "metadata": {
        "id": "qVUTkprUaD3Z"
      },
      "source": [
        "filepath = '/content/drive/MyDrive/My Projects/The Machine Learning Company/Project 2 - Seoul Bike Trip/For_modeling.csv'"
      ],
      "execution_count": 2,
      "outputs": []
    },
    {
      "cell_type": "code",
      "metadata": {
        "id": "73P43RDmaeln"
      },
      "source": [
        "dataset = pd.read_csv(filepath)"
      ],
      "execution_count": 3,
      "outputs": []
    },
    {
      "cell_type": "code",
      "metadata": {
        "colab": {
          "base_uri": "https://localhost:8080/"
        },
        "id": "4ARFsCv9aii7",
        "outputId": "74cbf0f8-261d-4826-ed5d-1403bc7d5e41"
      },
      "source": [
        "dataset.shape"
      ],
      "execution_count": 4,
      "outputs": [
        {
          "output_type": "execute_result",
          "data": {
            "text/plain": [
              "(9601139, 26)"
            ]
          },
          "metadata": {},
          "execution_count": 4
        }
      ]
    },
    {
      "cell_type": "code",
      "metadata": {
        "colab": {
          "base_uri": "https://localhost:8080/"
        },
        "id": "06-0t7PMbult",
        "outputId": "0b6cc9ba-ea13-42d4-b094-3b038145720b"
      },
      "source": [
        "dataset.columns"
      ],
      "execution_count": 5,
      "outputs": [
        {
          "output_type": "execute_result",
          "data": {
            "text/plain": [
              "Index(['Unnamed: 0', 'Duration', 'Distance', 'PLong', 'PLatd', 'DLong',\n",
              "       'DLatd', 'Haversine', 'Pmonth', 'Pday', 'Phour', 'Pmin', 'PDweek',\n",
              "       'Dmonth', 'Dday', 'Dhour', 'Dmin', 'DDweek', 'Temp', 'Precip', 'Wind',\n",
              "       'Humid', 'Solar', 'Snow', 'GroundTemp', 'Dust'],\n",
              "      dtype='object')"
            ]
          },
          "metadata": {},
          "execution_count": 5
        }
      ]
    },
    {
      "cell_type": "code",
      "metadata": {
        "colab": {
          "base_uri": "https://localhost:8080/",
          "height": 243
        },
        "id": "6trXncjabyGU",
        "outputId": "c7ec24be-d0b3-47d8-bcbd-63f77f11bae0"
      },
      "source": [
        "dataset.head()"
      ],
      "execution_count": 6,
      "outputs": [
        {
          "output_type": "execute_result",
          "data": {
            "text/html": [
              "<div>\n",
              "<style scoped>\n",
              "    .dataframe tbody tr th:only-of-type {\n",
              "        vertical-align: middle;\n",
              "    }\n",
              "\n",
              "    .dataframe tbody tr th {\n",
              "        vertical-align: top;\n",
              "    }\n",
              "\n",
              "    .dataframe thead th {\n",
              "        text-align: right;\n",
              "    }\n",
              "</style>\n",
              "<table border=\"1\" class=\"dataframe\">\n",
              "  <thead>\n",
              "    <tr style=\"text-align: right;\">\n",
              "      <th></th>\n",
              "      <th>Unnamed: 0</th>\n",
              "      <th>Duration</th>\n",
              "      <th>Distance</th>\n",
              "      <th>PLong</th>\n",
              "      <th>PLatd</th>\n",
              "      <th>DLong</th>\n",
              "      <th>DLatd</th>\n",
              "      <th>Haversine</th>\n",
              "      <th>Pmonth</th>\n",
              "      <th>Pday</th>\n",
              "      <th>Phour</th>\n",
              "      <th>Pmin</th>\n",
              "      <th>PDweek</th>\n",
              "      <th>Dmonth</th>\n",
              "      <th>Dday</th>\n",
              "      <th>Dhour</th>\n",
              "      <th>Dmin</th>\n",
              "      <th>DDweek</th>\n",
              "      <th>Temp</th>\n",
              "      <th>Precip</th>\n",
              "      <th>Wind</th>\n",
              "      <th>Humid</th>\n",
              "      <th>Solar</th>\n",
              "      <th>Snow</th>\n",
              "      <th>GroundTemp</th>\n",
              "      <th>Dust</th>\n",
              "    </tr>\n",
              "  </thead>\n",
              "  <tbody>\n",
              "    <tr>\n",
              "      <th>0</th>\n",
              "      <td>0</td>\n",
              "      <td>3</td>\n",
              "      <td>50</td>\n",
              "      <td>37.544666</td>\n",
              "      <td>126.888359</td>\n",
              "      <td>37.544666</td>\n",
              "      <td>126.888359</td>\n",
              "      <td>0.000000</td>\n",
              "      <td>1</td>\n",
              "      <td>1</td>\n",
              "      <td>0</td>\n",
              "      <td>0</td>\n",
              "      <td>0</td>\n",
              "      <td>1</td>\n",
              "      <td>1</td>\n",
              "      <td>0</td>\n",
              "      <td>4</td>\n",
              "      <td>0</td>\n",
              "      <td>-3.2</td>\n",
              "      <td>0.0</td>\n",
              "      <td>0.5</td>\n",
              "      <td>40.0</td>\n",
              "      <td>0.0</td>\n",
              "      <td>0.0</td>\n",
              "      <td>-2.2</td>\n",
              "      <td>25.0</td>\n",
              "    </tr>\n",
              "    <tr>\n",
              "      <th>1</th>\n",
              "      <td>1</td>\n",
              "      <td>24</td>\n",
              "      <td>7670</td>\n",
              "      <td>37.506199</td>\n",
              "      <td>127.003944</td>\n",
              "      <td>37.551250</td>\n",
              "      <td>127.035103</td>\n",
              "      <td>5.713529</td>\n",
              "      <td>1</td>\n",
              "      <td>1</td>\n",
              "      <td>0</td>\n",
              "      <td>0</td>\n",
              "      <td>0</td>\n",
              "      <td>1</td>\n",
              "      <td>1</td>\n",
              "      <td>0</td>\n",
              "      <td>25</td>\n",
              "      <td>0</td>\n",
              "      <td>-3.2</td>\n",
              "      <td>0.0</td>\n",
              "      <td>0.5</td>\n",
              "      <td>40.0</td>\n",
              "      <td>0.0</td>\n",
              "      <td>0.0</td>\n",
              "      <td>-2.2</td>\n",
              "      <td>25.0</td>\n",
              "    </tr>\n",
              "    <tr>\n",
              "      <th>2</th>\n",
              "      <td>2</td>\n",
              "      <td>8</td>\n",
              "      <td>1390</td>\n",
              "      <td>37.544590</td>\n",
              "      <td>127.057083</td>\n",
              "      <td>37.537014</td>\n",
              "      <td>127.061096</td>\n",
              "      <td>0.913702</td>\n",
              "      <td>1</td>\n",
              "      <td>1</td>\n",
              "      <td>0</td>\n",
              "      <td>0</td>\n",
              "      <td>0</td>\n",
              "      <td>1</td>\n",
              "      <td>1</td>\n",
              "      <td>0</td>\n",
              "      <td>9</td>\n",
              "      <td>0</td>\n",
              "      <td>-3.2</td>\n",
              "      <td>0.0</td>\n",
              "      <td>0.5</td>\n",
              "      <td>40.0</td>\n",
              "      <td>0.0</td>\n",
              "      <td>0.0</td>\n",
              "      <td>-2.2</td>\n",
              "      <td>25.0</td>\n",
              "    </tr>\n",
              "    <tr>\n",
              "      <th>3</th>\n",
              "      <td>3</td>\n",
              "      <td>8</td>\n",
              "      <td>1820</td>\n",
              "      <td>37.571102</td>\n",
              "      <td>127.023560</td>\n",
              "      <td>37.561447</td>\n",
              "      <td>127.034920</td>\n",
              "      <td>1.468027</td>\n",
              "      <td>1</td>\n",
              "      <td>1</td>\n",
              "      <td>0</td>\n",
              "      <td>1</td>\n",
              "      <td>0</td>\n",
              "      <td>1</td>\n",
              "      <td>1</td>\n",
              "      <td>0</td>\n",
              "      <td>10</td>\n",
              "      <td>0</td>\n",
              "      <td>-3.2</td>\n",
              "      <td>0.0</td>\n",
              "      <td>0.5</td>\n",
              "      <td>40.0</td>\n",
              "      <td>0.0</td>\n",
              "      <td>0.0</td>\n",
              "      <td>-2.2</td>\n",
              "      <td>25.0</td>\n",
              "    </tr>\n",
              "    <tr>\n",
              "      <th>4</th>\n",
              "      <td>4</td>\n",
              "      <td>4</td>\n",
              "      <td>850</td>\n",
              "      <td>37.573242</td>\n",
              "      <td>127.015907</td>\n",
              "      <td>37.565849</td>\n",
              "      <td>127.016403</td>\n",
              "      <td>0.823227</td>\n",
              "      <td>1</td>\n",
              "      <td>1</td>\n",
              "      <td>0</td>\n",
              "      <td>1</td>\n",
              "      <td>0</td>\n",
              "      <td>1</td>\n",
              "      <td>1</td>\n",
              "      <td>0</td>\n",
              "      <td>6</td>\n",
              "      <td>0</td>\n",
              "      <td>-3.2</td>\n",
              "      <td>0.0</td>\n",
              "      <td>0.5</td>\n",
              "      <td>40.0</td>\n",
              "      <td>0.0</td>\n",
              "      <td>0.0</td>\n",
              "      <td>-2.2</td>\n",
              "      <td>25.0</td>\n",
              "    </tr>\n",
              "  </tbody>\n",
              "</table>\n",
              "</div>"
            ],
            "text/plain": [
              "   Unnamed: 0  Duration  Distance      PLong  ...  Solar  Snow  GroundTemp  Dust\n",
              "0           0         3        50  37.544666  ...    0.0   0.0        -2.2  25.0\n",
              "1           1        24      7670  37.506199  ...    0.0   0.0        -2.2  25.0\n",
              "2           2         8      1390  37.544590  ...    0.0   0.0        -2.2  25.0\n",
              "3           3         8      1820  37.571102  ...    0.0   0.0        -2.2  25.0\n",
              "4           4         4       850  37.573242  ...    0.0   0.0        -2.2  25.0\n",
              "\n",
              "[5 rows x 26 columns]"
            ]
          },
          "metadata": {},
          "execution_count": 6
        }
      ]
    },
    {
      "cell_type": "code",
      "metadata": {
        "colab": {
          "base_uri": "https://localhost:8080/",
          "height": 243
        },
        "id": "oFgb7tbzbz1t",
        "outputId": "253a5fa7-65dd-40ce-f1e1-49f5ff4fac1b"
      },
      "source": [
        "dataset.tail()"
      ],
      "execution_count": 7,
      "outputs": [
        {
          "output_type": "execute_result",
          "data": {
            "text/html": [
              "<div>\n",
              "<style scoped>\n",
              "    .dataframe tbody tr th:only-of-type {\n",
              "        vertical-align: middle;\n",
              "    }\n",
              "\n",
              "    .dataframe tbody tr th {\n",
              "        vertical-align: top;\n",
              "    }\n",
              "\n",
              "    .dataframe thead th {\n",
              "        text-align: right;\n",
              "    }\n",
              "</style>\n",
              "<table border=\"1\" class=\"dataframe\">\n",
              "  <thead>\n",
              "    <tr style=\"text-align: right;\">\n",
              "      <th></th>\n",
              "      <th>Unnamed: 0</th>\n",
              "      <th>Duration</th>\n",
              "      <th>Distance</th>\n",
              "      <th>PLong</th>\n",
              "      <th>PLatd</th>\n",
              "      <th>DLong</th>\n",
              "      <th>DLatd</th>\n",
              "      <th>Haversine</th>\n",
              "      <th>Pmonth</th>\n",
              "      <th>Pday</th>\n",
              "      <th>Phour</th>\n",
              "      <th>Pmin</th>\n",
              "      <th>PDweek</th>\n",
              "      <th>Dmonth</th>\n",
              "      <th>Dday</th>\n",
              "      <th>Dhour</th>\n",
              "      <th>Dmin</th>\n",
              "      <th>DDweek</th>\n",
              "      <th>Temp</th>\n",
              "      <th>Precip</th>\n",
              "      <th>Wind</th>\n",
              "      <th>Humid</th>\n",
              "      <th>Solar</th>\n",
              "      <th>Snow</th>\n",
              "      <th>GroundTemp</th>\n",
              "      <th>Dust</th>\n",
              "    </tr>\n",
              "  </thead>\n",
              "  <tbody>\n",
              "    <tr>\n",
              "      <th>9601134</th>\n",
              "      <td>9830306</td>\n",
              "      <td>67</td>\n",
              "      <td>6930</td>\n",
              "      <td>37.562607</td>\n",
              "      <td>127.051308</td>\n",
              "      <td>37.562607</td>\n",
              "      <td>127.051308</td>\n",
              "      <td>0.000000</td>\n",
              "      <td>12</td>\n",
              "      <td>31</td>\n",
              "      <td>23</td>\n",
              "      <td>43</td>\n",
              "      <td>0</td>\n",
              "      <td>1</td>\n",
              "      <td>1</td>\n",
              "      <td>0</td>\n",
              "      <td>51</td>\n",
              "      <td>1</td>\n",
              "      <td>-5.2</td>\n",
              "      <td>0.0</td>\n",
              "      <td>1.6</td>\n",
              "      <td>47.0</td>\n",
              "      <td>0.0</td>\n",
              "      <td>0.0</td>\n",
              "      <td>-5.1</td>\n",
              "      <td>53.0</td>\n",
              "    </tr>\n",
              "    <tr>\n",
              "      <th>9601135</th>\n",
              "      <td>9830307</td>\n",
              "      <td>58</td>\n",
              "      <td>8320</td>\n",
              "      <td>37.511982</td>\n",
              "      <td>127.085052</td>\n",
              "      <td>37.476028</td>\n",
              "      <td>127.105942</td>\n",
              "      <td>4.402263</td>\n",
              "      <td>12</td>\n",
              "      <td>31</td>\n",
              "      <td>23</td>\n",
              "      <td>54</td>\n",
              "      <td>0</td>\n",
              "      <td>1</td>\n",
              "      <td>1</td>\n",
              "      <td>0</td>\n",
              "      <td>53</td>\n",
              "      <td>1</td>\n",
              "      <td>-5.2</td>\n",
              "      <td>0.0</td>\n",
              "      <td>1.6</td>\n",
              "      <td>47.0</td>\n",
              "      <td>0.0</td>\n",
              "      <td>0.0</td>\n",
              "      <td>-5.1</td>\n",
              "      <td>53.0</td>\n",
              "    </tr>\n",
              "    <tr>\n",
              "      <th>9601136</th>\n",
              "      <td>9830308</td>\n",
              "      <td>118</td>\n",
              "      <td>2730</td>\n",
              "      <td>37.506199</td>\n",
              "      <td>127.003944</td>\n",
              "      <td>37.514870</td>\n",
              "      <td>127.015282</td>\n",
              "      <td>1.389156</td>\n",
              "      <td>12</td>\n",
              "      <td>31</td>\n",
              "      <td>22</td>\n",
              "      <td>59</td>\n",
              "      <td>0</td>\n",
              "      <td>1</td>\n",
              "      <td>1</td>\n",
              "      <td>0</td>\n",
              "      <td>58</td>\n",
              "      <td>1</td>\n",
              "      <td>-5.4</td>\n",
              "      <td>0.0</td>\n",
              "      <td>1.3</td>\n",
              "      <td>46.0</td>\n",
              "      <td>0.0</td>\n",
              "      <td>0.0</td>\n",
              "      <td>-5.0</td>\n",
              "      <td>49.0</td>\n",
              "    </tr>\n",
              "    <tr>\n",
              "      <th>9601137</th>\n",
              "      <td>9830309</td>\n",
              "      <td>90</td>\n",
              "      <td>17170</td>\n",
              "      <td>37.489750</td>\n",
              "      <td>126.927467</td>\n",
              "      <td>37.565903</td>\n",
              "      <td>126.901184</td>\n",
              "      <td>8.779307</td>\n",
              "      <td>12</td>\n",
              "      <td>31</td>\n",
              "      <td>23</td>\n",
              "      <td>55</td>\n",
              "      <td>0</td>\n",
              "      <td>1</td>\n",
              "      <td>1</td>\n",
              "      <td>1</td>\n",
              "      <td>26</td>\n",
              "      <td>1</td>\n",
              "      <td>-5.2</td>\n",
              "      <td>0.0</td>\n",
              "      <td>1.6</td>\n",
              "      <td>47.0</td>\n",
              "      <td>0.0</td>\n",
              "      <td>0.0</td>\n",
              "      <td>-5.1</td>\n",
              "      <td>53.0</td>\n",
              "    </tr>\n",
              "    <tr>\n",
              "      <th>9601138</th>\n",
              "      <td>9830310</td>\n",
              "      <td>116</td>\n",
              "      <td>1410</td>\n",
              "      <td>37.585655</td>\n",
              "      <td>127.075050</td>\n",
              "      <td>37.585655</td>\n",
              "      <td>127.075050</td>\n",
              "      <td>0.000000</td>\n",
              "      <td>12</td>\n",
              "      <td>31</td>\n",
              "      <td>23</td>\n",
              "      <td>33</td>\n",
              "      <td>0</td>\n",
              "      <td>1</td>\n",
              "      <td>1</td>\n",
              "      <td>1</td>\n",
              "      <td>30</td>\n",
              "      <td>1</td>\n",
              "      <td>-5.2</td>\n",
              "      <td>0.0</td>\n",
              "      <td>1.6</td>\n",
              "      <td>47.0</td>\n",
              "      <td>0.0</td>\n",
              "      <td>0.0</td>\n",
              "      <td>-5.1</td>\n",
              "      <td>53.0</td>\n",
              "    </tr>\n",
              "  </tbody>\n",
              "</table>\n",
              "</div>"
            ],
            "text/plain": [
              "         Unnamed: 0  Duration  Distance  ...  Snow  GroundTemp  Dust\n",
              "9601134     9830306        67      6930  ...   0.0        -5.1  53.0\n",
              "9601135     9830307        58      8320  ...   0.0        -5.1  53.0\n",
              "9601136     9830308       118      2730  ...   0.0        -5.0  49.0\n",
              "9601137     9830309        90     17170  ...   0.0        -5.1  53.0\n",
              "9601138     9830310       116      1410  ...   0.0        -5.1  53.0\n",
              "\n",
              "[5 rows x 26 columns]"
            ]
          },
          "metadata": {},
          "execution_count": 7
        }
      ]
    },
    {
      "cell_type": "code",
      "metadata": {
        "colab": {
          "base_uri": "https://localhost:8080/",
          "height": 320
        },
        "id": "471vLQDZb1qw",
        "outputId": "2ce3d5f6-6b44-41a4-ef30-c5df51dedb74"
      },
      "source": [
        "dataset.describe()"
      ],
      "execution_count": 8,
      "outputs": [
        {
          "output_type": "execute_result",
          "data": {
            "text/html": [
              "<div>\n",
              "<style scoped>\n",
              "    .dataframe tbody tr th:only-of-type {\n",
              "        vertical-align: middle;\n",
              "    }\n",
              "\n",
              "    .dataframe tbody tr th {\n",
              "        vertical-align: top;\n",
              "    }\n",
              "\n",
              "    .dataframe thead th {\n",
              "        text-align: right;\n",
              "    }\n",
              "</style>\n",
              "<table border=\"1\" class=\"dataframe\">\n",
              "  <thead>\n",
              "    <tr style=\"text-align: right;\">\n",
              "      <th></th>\n",
              "      <th>Unnamed: 0</th>\n",
              "      <th>Duration</th>\n",
              "      <th>Distance</th>\n",
              "      <th>PLong</th>\n",
              "      <th>PLatd</th>\n",
              "      <th>DLong</th>\n",
              "      <th>DLatd</th>\n",
              "      <th>Haversine</th>\n",
              "      <th>Pmonth</th>\n",
              "      <th>Pday</th>\n",
              "      <th>Phour</th>\n",
              "      <th>Pmin</th>\n",
              "      <th>PDweek</th>\n",
              "      <th>Dmonth</th>\n",
              "      <th>Dday</th>\n",
              "      <th>Dhour</th>\n",
              "      <th>Dmin</th>\n",
              "      <th>DDweek</th>\n",
              "      <th>Temp</th>\n",
              "      <th>Precip</th>\n",
              "      <th>Wind</th>\n",
              "      <th>Humid</th>\n",
              "      <th>Solar</th>\n",
              "      <th>Snow</th>\n",
              "      <th>GroundTemp</th>\n",
              "      <th>Dust</th>\n",
              "    </tr>\n",
              "  </thead>\n",
              "  <tbody>\n",
              "    <tr>\n",
              "      <th>count</th>\n",
              "      <td>9.601139e+06</td>\n",
              "      <td>9.601139e+06</td>\n",
              "      <td>9.601139e+06</td>\n",
              "      <td>9.601139e+06</td>\n",
              "      <td>9.601139e+06</td>\n",
              "      <td>9.601139e+06</td>\n",
              "      <td>9.601139e+06</td>\n",
              "      <td>9.601139e+06</td>\n",
              "      <td>9.601139e+06</td>\n",
              "      <td>9.601139e+06</td>\n",
              "      <td>9.601139e+06</td>\n",
              "      <td>9.601139e+06</td>\n",
              "      <td>9.601139e+06</td>\n",
              "      <td>9.601139e+06</td>\n",
              "      <td>9.601139e+06</td>\n",
              "      <td>9.601139e+06</td>\n",
              "      <td>9.601139e+06</td>\n",
              "      <td>9.601139e+06</td>\n",
              "      <td>9.601139e+06</td>\n",
              "      <td>9.601139e+06</td>\n",
              "      <td>9.601139e+06</td>\n",
              "      <td>9.601139e+06</td>\n",
              "      <td>9.601139e+06</td>\n",
              "      <td>9.601139e+06</td>\n",
              "      <td>9.601139e+06</td>\n",
              "      <td>9.601139e+06</td>\n",
              "    </tr>\n",
              "    <tr>\n",
              "      <th>mean</th>\n",
              "      <td>4.923152e+06</td>\n",
              "      <td>2.580294e+01</td>\n",
              "      <td>3.713519e+03</td>\n",
              "      <td>3.754761e+01</td>\n",
              "      <td>1.269908e+02</td>\n",
              "      <td>3.754770e+01</td>\n",
              "      <td>1.269907e+02</td>\n",
              "      <td>1.870315e+00</td>\n",
              "      <td>7.578754e+00</td>\n",
              "      <td>1.576714e+01</td>\n",
              "      <td>1.437801e+01</td>\n",
              "      <td>2.914948e+01</td>\n",
              "      <td>2.943812e+00</td>\n",
              "      <td>7.579198e+00</td>\n",
              "      <td>1.576666e+01</td>\n",
              "      <td>1.442620e+01</td>\n",
              "      <td>2.999278e+01</td>\n",
              "      <td>2.945771e+00</td>\n",
              "      <td>1.856201e+01</td>\n",
              "      <td>1.784856e-02</td>\n",
              "      <td>1.819274e+00</td>\n",
              "      <td>5.397565e+01</td>\n",
              "      <td>7.300679e-01</td>\n",
              "      <td>9.948924e-03</td>\n",
              "      <td>2.072376e+01</td>\n",
              "      <td>3.245798e+01</td>\n",
              "    </tr>\n",
              "    <tr>\n",
              "      <th>std</th>\n",
              "      <td>2.841734e+06</td>\n",
              "      <td>2.504333e+01</td>\n",
              "      <td>3.956611e+03</td>\n",
              "      <td>4.441376e-02</td>\n",
              "      <td>8.257065e-02</td>\n",
              "      <td>4.445305e-02</td>\n",
              "      <td>8.323726e-02</td>\n",
              "      <td>1.995361e+00</td>\n",
              "      <td>2.696797e+00</td>\n",
              "      <td>8.748012e+00</td>\n",
              "      <td>6.249244e+00</td>\n",
              "      <td>1.725837e+01</td>\n",
              "      <td>1.976063e+00</td>\n",
              "      <td>2.696781e+00</td>\n",
              "      <td>8.747788e+00</td>\n",
              "      <td>6.484493e+00</td>\n",
              "      <td>1.730960e+01</td>\n",
              "      <td>1.977624e+00</td>\n",
              "      <td>9.498075e+00</td>\n",
              "      <td>3.736282e-01</td>\n",
              "      <td>9.710258e-01</td>\n",
              "      <td>1.742159e+01</td>\n",
              "      <td>9.175004e-01</td>\n",
              "      <td>1.628091e-01</td>\n",
              "      <td>1.265221e+01</td>\n",
              "      <td>2.407264e+01</td>\n",
              "    </tr>\n",
              "    <tr>\n",
              "      <th>min</th>\n",
              "      <td>0.000000e+00</td>\n",
              "      <td>1.000000e+00</td>\n",
              "      <td>1.000000e+00</td>\n",
              "      <td>3.743727e+01</td>\n",
              "      <td>1.267986e+02</td>\n",
              "      <td>3.743727e+01</td>\n",
              "      <td>1.267986e+02</td>\n",
              "      <td>0.000000e+00</td>\n",
              "      <td>1.000000e+00</td>\n",
              "      <td>1.000000e+00</td>\n",
              "      <td>0.000000e+00</td>\n",
              "      <td>0.000000e+00</td>\n",
              "      <td>0.000000e+00</td>\n",
              "      <td>1.000000e+00</td>\n",
              "      <td>1.000000e+00</td>\n",
              "      <td>0.000000e+00</td>\n",
              "      <td>0.000000e+00</td>\n",
              "      <td>0.000000e+00</td>\n",
              "      <td>-1.780000e+01</td>\n",
              "      <td>0.000000e+00</td>\n",
              "      <td>0.000000e+00</td>\n",
              "      <td>1.000000e+01</td>\n",
              "      <td>0.000000e+00</td>\n",
              "      <td>0.000000e+00</td>\n",
              "      <td>-1.360000e+01</td>\n",
              "      <td>0.000000e+00</td>\n",
              "    </tr>\n",
              "    <tr>\n",
              "      <th>25%</th>\n",
              "      <td>2.466320e+06</td>\n",
              "      <td>8.000000e+00</td>\n",
              "      <td>1.230000e+03</td>\n",
              "      <td>3.751424e+01</td>\n",
              "      <td>1.269200e+02</td>\n",
              "      <td>3.751424e+01</td>\n",
              "      <td>1.269194e+02</td>\n",
              "      <td>6.758669e-01</td>\n",
              "      <td>6.000000e+00</td>\n",
              "      <td>8.000000e+00</td>\n",
              "      <td>1.000000e+01</td>\n",
              "      <td>1.400000e+01</td>\n",
              "      <td>1.000000e+00</td>\n",
              "      <td>6.000000e+00</td>\n",
              "      <td>8.000000e+00</td>\n",
              "      <td>1.000000e+01</td>\n",
              "      <td>1.500000e+01</td>\n",
              "      <td>1.000000e+00</td>\n",
              "      <td>1.220000e+01</td>\n",
              "      <td>0.000000e+00</td>\n",
              "      <td>1.100000e+00</td>\n",
              "      <td>4.100000e+01</td>\n",
              "      <td>0.000000e+00</td>\n",
              "      <td>0.000000e+00</td>\n",
              "      <td>1.160000e+01</td>\n",
              "      <td>1.600000e+01</td>\n",
              "    </tr>\n",
              "    <tr>\n",
              "      <th>50%</th>\n",
              "      <td>4.921318e+06</td>\n",
              "      <td>1.600000e+01</td>\n",
              "      <td>2.280000e+03</td>\n",
              "      <td>3.754693e+01</td>\n",
              "      <td>1.269943e+02</td>\n",
              "      <td>3.754655e+01</td>\n",
              "      <td>1.269947e+02</td>\n",
              "      <td>1.257498e+00</td>\n",
              "      <td>8.000000e+00</td>\n",
              "      <td>1.600000e+01</td>\n",
              "      <td>1.600000e+01</td>\n",
              "      <td>2.900000e+01</td>\n",
              "      <td>3.000000e+00</td>\n",
              "      <td>8.000000e+00</td>\n",
              "      <td>1.600000e+01</td>\n",
              "      <td>1.600000e+01</td>\n",
              "      <td>3.000000e+01</td>\n",
              "      <td>3.000000e+00</td>\n",
              "      <td>2.010000e+01</td>\n",
              "      <td>0.000000e+00</td>\n",
              "      <td>1.700000e+00</td>\n",
              "      <td>5.300000e+01</td>\n",
              "      <td>2.700000e-01</td>\n",
              "      <td>0.000000e+00</td>\n",
              "      <td>2.110000e+01</td>\n",
              "      <td>2.700000e+01</td>\n",
              "    </tr>\n",
              "    <tr>\n",
              "      <th>75%</th>\n",
              "      <td>7.389176e+06</td>\n",
              "      <td>3.600000e+01</td>\n",
              "      <td>4.620000e+03</td>\n",
              "      <td>3.757324e+01</td>\n",
              "      <td>1.270618e+02</td>\n",
              "      <td>3.757324e+01</td>\n",
              "      <td>1.270624e+02</td>\n",
              "      <td>2.363812e+00</td>\n",
              "      <td>1.000000e+01</td>\n",
              "      <td>2.300000e+01</td>\n",
              "      <td>1.900000e+01</td>\n",
              "      <td>4.400000e+01</td>\n",
              "      <td>5.000000e+00</td>\n",
              "      <td>1.000000e+01</td>\n",
              "      <td>2.300000e+01</td>\n",
              "      <td>2.000000e+01</td>\n",
              "      <td>4.500000e+01</td>\n",
              "      <td>5.000000e+00</td>\n",
              "      <td>2.550000e+01</td>\n",
              "      <td>0.000000e+00</td>\n",
              "      <td>2.400000e+00</td>\n",
              "      <td>6.700000e+01</td>\n",
              "      <td>1.260000e+00</td>\n",
              "      <td>0.000000e+00</td>\n",
              "      <td>2.850000e+01</td>\n",
              "      <td>4.200000e+01</td>\n",
              "    </tr>\n",
              "    <tr>\n",
              "      <th>max</th>\n",
              "      <td>9.830310e+06</td>\n",
              "      <td>1.190000e+02</td>\n",
              "      <td>3.329000e+04</td>\n",
              "      <td>3.768972e+01</td>\n",
              "      <td>1.271803e+02</td>\n",
              "      <td>3.768972e+01</td>\n",
              "      <td>1.271803e+02</td>\n",
              "      <td>2.863448e+01</td>\n",
              "      <td>1.200000e+01</td>\n",
              "      <td>3.100000e+01</td>\n",
              "      <td>2.300000e+01</td>\n",
              "      <td>5.900000e+01</td>\n",
              "      <td>6.000000e+00</td>\n",
              "      <td>1.200000e+01</td>\n",
              "      <td>3.100000e+01</td>\n",
              "      <td>2.300000e+01</td>\n",
              "      <td>5.900000e+01</td>\n",
              "      <td>6.000000e+00</td>\n",
              "      <td>3.940000e+01</td>\n",
              "      <td>3.500000e+01</td>\n",
              "      <td>7.400000e+00</td>\n",
              "      <td>9.800000e+01</td>\n",
              "      <td>3.520000e+00</td>\n",
              "      <td>8.800000e+00</td>\n",
              "      <td>6.220000e+01</td>\n",
              "      <td>3.040000e+02</td>\n",
              "    </tr>\n",
              "  </tbody>\n",
              "</table>\n",
              "</div>"
            ],
            "text/plain": [
              "         Unnamed: 0      Duration  ...    GroundTemp          Dust\n",
              "count  9.601139e+06  9.601139e+06  ...  9.601139e+06  9.601139e+06\n",
              "mean   4.923152e+06  2.580294e+01  ...  2.072376e+01  3.245798e+01\n",
              "std    2.841734e+06  2.504333e+01  ...  1.265221e+01  2.407264e+01\n",
              "min    0.000000e+00  1.000000e+00  ... -1.360000e+01  0.000000e+00\n",
              "25%    2.466320e+06  8.000000e+00  ...  1.160000e+01  1.600000e+01\n",
              "50%    4.921318e+06  1.600000e+01  ...  2.110000e+01  2.700000e+01\n",
              "75%    7.389176e+06  3.600000e+01  ...  2.850000e+01  4.200000e+01\n",
              "max    9.830310e+06  1.190000e+02  ...  6.220000e+01  3.040000e+02\n",
              "\n",
              "[8 rows x 26 columns]"
            ]
          },
          "metadata": {},
          "execution_count": 8
        }
      ]
    },
    {
      "cell_type": "code",
      "metadata": {
        "colab": {
          "base_uri": "https://localhost:8080/"
        },
        "id": "y9Wz2p6fcBSw",
        "outputId": "ffc47987-73f4-45d6-d255-ab53a53eee7c"
      },
      "source": [
        "dataset.info()"
      ],
      "execution_count": 9,
      "outputs": [
        {
          "output_type": "stream",
          "name": "stdout",
          "text": [
            "<class 'pandas.core.frame.DataFrame'>\n",
            "RangeIndex: 9601139 entries, 0 to 9601138\n",
            "Data columns (total 26 columns):\n",
            " #   Column      Dtype  \n",
            "---  ------      -----  \n",
            " 0   Unnamed: 0  int64  \n",
            " 1   Duration    int64  \n",
            " 2   Distance    int64  \n",
            " 3   PLong       float64\n",
            " 4   PLatd       float64\n",
            " 5   DLong       float64\n",
            " 6   DLatd       float64\n",
            " 7   Haversine   float64\n",
            " 8   Pmonth      int64  \n",
            " 9   Pday        int64  \n",
            " 10  Phour       int64  \n",
            " 11  Pmin        int64  \n",
            " 12  PDweek      int64  \n",
            " 13  Dmonth      int64  \n",
            " 14  Dday        int64  \n",
            " 15  Dhour       int64  \n",
            " 16  Dmin        int64  \n",
            " 17  DDweek      int64  \n",
            " 18  Temp        float64\n",
            " 19  Precip      float64\n",
            " 20  Wind        float64\n",
            " 21  Humid       float64\n",
            " 22  Solar       float64\n",
            " 23  Snow        float64\n",
            " 24  GroundTemp  float64\n",
            " 25  Dust        float64\n",
            "dtypes: float64(13), int64(13)\n",
            "memory usage: 1.9 GB\n"
          ]
        }
      ]
    },
    {
      "cell_type": "code",
      "metadata": {
        "colab": {
          "base_uri": "https://localhost:8080/"
        },
        "id": "eCKOkYPIcD7S",
        "outputId": "a4e368c5-0865-4950-f100-4d944c57ddcf"
      },
      "source": [
        "dataset.isnull().sum()"
      ],
      "execution_count": 10,
      "outputs": [
        {
          "output_type": "execute_result",
          "data": {
            "text/plain": [
              "Unnamed: 0    0\n",
              "Duration      0\n",
              "Distance      0\n",
              "PLong         0\n",
              "PLatd         0\n",
              "DLong         0\n",
              "DLatd         0\n",
              "Haversine     0\n",
              "Pmonth        0\n",
              "Pday          0\n",
              "Phour         0\n",
              "Pmin          0\n",
              "PDweek        0\n",
              "Dmonth        0\n",
              "Dday          0\n",
              "Dhour         0\n",
              "Dmin          0\n",
              "DDweek        0\n",
              "Temp          0\n",
              "Precip        0\n",
              "Wind          0\n",
              "Humid         0\n",
              "Solar         0\n",
              "Snow          0\n",
              "GroundTemp    0\n",
              "Dust          0\n",
              "dtype: int64"
            ]
          },
          "metadata": {},
          "execution_count": 10
        }
      ]
    },
    {
      "cell_type": "markdown",
      "metadata": {
        "id": "qQSGmGidc87c"
      },
      "source": [
        "Removing Duplicate rows?"
      ]
    },
    {
      "cell_type": "code",
      "metadata": {
        "colab": {
          "base_uri": "https://localhost:8080/",
          "height": 87
        },
        "id": "mkxGA-3Jc_Np",
        "outputId": "735bc84c-f5e6-40a9-f7d9-83657a9609a0"
      },
      "source": [
        "dataset[dataset.duplicated()]"
      ],
      "execution_count": 11,
      "outputs": [
        {
          "output_type": "execute_result",
          "data": {
            "text/html": [
              "<div>\n",
              "<style scoped>\n",
              "    .dataframe tbody tr th:only-of-type {\n",
              "        vertical-align: middle;\n",
              "    }\n",
              "\n",
              "    .dataframe tbody tr th {\n",
              "        vertical-align: top;\n",
              "    }\n",
              "\n",
              "    .dataframe thead th {\n",
              "        text-align: right;\n",
              "    }\n",
              "</style>\n",
              "<table border=\"1\" class=\"dataframe\">\n",
              "  <thead>\n",
              "    <tr style=\"text-align: right;\">\n",
              "      <th></th>\n",
              "      <th>Unnamed: 0</th>\n",
              "      <th>Duration</th>\n",
              "      <th>Distance</th>\n",
              "      <th>PLong</th>\n",
              "      <th>PLatd</th>\n",
              "      <th>DLong</th>\n",
              "      <th>DLatd</th>\n",
              "      <th>Haversine</th>\n",
              "      <th>Pmonth</th>\n",
              "      <th>Pday</th>\n",
              "      <th>Phour</th>\n",
              "      <th>Pmin</th>\n",
              "      <th>PDweek</th>\n",
              "      <th>Dmonth</th>\n",
              "      <th>Dday</th>\n",
              "      <th>Dhour</th>\n",
              "      <th>Dmin</th>\n",
              "      <th>DDweek</th>\n",
              "      <th>Temp</th>\n",
              "      <th>Precip</th>\n",
              "      <th>Wind</th>\n",
              "      <th>Humid</th>\n",
              "      <th>Solar</th>\n",
              "      <th>Snow</th>\n",
              "      <th>GroundTemp</th>\n",
              "      <th>Dust</th>\n",
              "    </tr>\n",
              "  </thead>\n",
              "  <tbody>\n",
              "  </tbody>\n",
              "</table>\n",
              "</div>"
            ],
            "text/plain": [
              "Empty DataFrame\n",
              "Columns: [Unnamed: 0, Duration, Distance, PLong, PLatd, DLong, DLatd, Haversine, Pmonth, Pday, Phour, Pmin, PDweek, Dmonth, Dday, Dhour, Dmin, DDweek, Temp, Precip, Wind, Humid, Solar, Snow, GroundTemp, Dust]\n",
              "Index: []"
            ]
          },
          "metadata": {},
          "execution_count": 11
        }
      ]
    },
    {
      "cell_type": "code",
      "metadata": {
        "colab": {
          "base_uri": "https://localhost:8080/"
        },
        "id": "tVDiPweodKlx",
        "outputId": "694296cc-13ab-4a75-e42e-1dace554e459"
      },
      "source": [
        "dataset.shape"
      ],
      "execution_count": 12,
      "outputs": [
        {
          "output_type": "execute_result",
          "data": {
            "text/plain": [
              "(9601139, 26)"
            ]
          },
          "metadata": {},
          "execution_count": 12
        }
      ]
    },
    {
      "cell_type": "markdown",
      "metadata": {
        "id": "JrIgYxE9cdBC"
      },
      "source": [
        "**Univariate Analysis**"
      ]
    },
    {
      "cell_type": "code",
      "metadata": {
        "id": "6yhb5pw4i29n"
      },
      "source": [
        "import numpy as np"
      ],
      "execution_count": 13,
      "outputs": []
    },
    {
      "cell_type": "code",
      "metadata": {
        "id": "zISqVgRrcI4x"
      },
      "source": [
        "import matplotlib.pyplot as plt"
      ],
      "execution_count": 14,
      "outputs": []
    },
    {
      "cell_type": "code",
      "metadata": {
        "colab": {
          "base_uri": "https://localhost:8080/",
          "height": 317
        },
        "id": "4GO7gcDGdlex",
        "outputId": "eae7aaaa-ca53-49ca-f45c-7876a7b49930"
      },
      "source": [
        "plt.subplot(1,2,1)\n",
        "plt.hist(dataset['Duration'])\n",
        "plt.subplot(1,2,2)\n",
        "plt.boxplot(dataset['Duration'], labels=['Duration'])\n",
        "\n",
        "plt.subplots_adjust(left=0.01,\n",
        "                    bottom=0.1, \n",
        "                    right=2.5, \n",
        "                    top=1, \n",
        "                    wspace=0.4, \n",
        "                    hspace=0.4)\n",
        "\n",
        "plt.show()"
      ],
      "execution_count": 15,
      "outputs": [
        {
          "output_type": "display_data",
          "data": {
            "image/png": "[encoded data removed]",
            "text/plain": [
              "<Figure size 432x288 with 2 Axes>"
            ]
          },
          "metadata": {
            "needs_background": "light"
          }
        }
      ]
    },
    {
      "cell_type": "markdown",
      "metadata": {
        "id": "rqBEmbn-jDXT"
      },
      "source": [
        "**Log of distribution**"
      ]
    },
    {
      "cell_type": "code",
      "metadata": {
        "id": "WXmKJ8btZAV1"
      },
      "source": [
        "dataset['Duration'] = np.log2(dataset['Duration'])"
      ],
      "execution_count": 16,
      "outputs": []
    },
    {
      "cell_type": "code",
      "metadata": {
        "colab": {
          "base_uri": "https://localhost:8080/",
          "height": 315
        },
        "id": "FBLH2JxqeXiQ",
        "outputId": "0e88643a-8030-4a58-f6cf-f7de0efa4b67"
      },
      "source": [
        "plt.subplot(1,2,1)\n",
        "plt.hist(dataset['Duration'])\n",
        "plt.subplot(1,2,2)\n",
        "plt.boxplot(dataset['Duration'], labels=['Duration'])\n",
        "\n",
        "plt.subplots_adjust(left=0.01,\n",
        "                    bottom=0.1, \n",
        "                    right=2.5, \n",
        "                    top=1, \n",
        "                    wspace=0.4, \n",
        "                    hspace=0.4)\n",
        "\n",
        "plt.show()"
      ],
      "execution_count": 17,
      "outputs": [
        {
          "output_type": "display_data",
          "data": {
            "image/png": "[encoded data removed]",
            "text/plain": [
              "<Figure size 432x288 with 2 Axes>"
            ]
          },
          "metadata": {
            "needs_background": "light"
          }
        }
      ]
    },
    {
      "cell_type": "code",
      "metadata": {
        "colab": {
          "base_uri": "https://localhost:8080/"
        },
        "id": "Hp_ESYipjZKd",
        "outputId": "53a25f32-91b6-47fd-f9d0-70b7f243f4d3"
      },
      "source": [
        "dataset['Duration'].skew()"
      ],
      "execution_count": 18,
      "outputs": [
        {
          "output_type": "execute_result",
          "data": {
            "text/plain": [
              "-0.05818830225826713"
            ]
          },
          "metadata": {},
          "execution_count": 18
        }
      ]
    },
    {
      "cell_type": "code",
      "metadata": {
        "colab": {
          "base_uri": "https://localhost:8080/"
        },
        "id": "JrhXnroKjrsi",
        "outputId": "be2473cd-78ef-4b8c-f1e1-a566a32b456e"
      },
      "source": [
        "np.log2(dataset['Duration']).skew() "
      ],
      "execution_count": 19,
      "outputs": [
        {
          "output_type": "stream",
          "name": "stderr",
          "text": [
            "/usr/local/lib/python3.7/dist-packages/pandas/core/series.py:726: RuntimeWarning: divide by zero encountered in log2\n",
            "  result = getattr(ufunc, method)(*inputs, **kwargs)\n"
          ]
        },
        {
          "output_type": "execute_result",
          "data": {
            "text/plain": [
              "nan"
            ]
          },
          "metadata": {},
          "execution_count": 19
        }
      ]
    },
    {
      "cell_type": "code",
      "metadata": {
        "colab": {
          "base_uri": "https://localhost:8080/",
          "height": 318
        },
        "id": "RcaWeezmZDBd",
        "outputId": "caddfdb0-c910-499a-bb8d-f33c882e3241"
      },
      "source": [
        "plt.subplot(1,2,1)\n",
        "plt.hist(dataset['Distance'])\n",
        "plt.subplot(1,2,2)\n",
        "plt.boxplot(dataset['Distance'], labels=['Distance'])\n",
        "\n",
        "plt.subplots_adjust(left=0.01,\n",
        "                    bottom=0.1, \n",
        "                    right=2.5, \n",
        "                    top=1, \n",
        "                    wspace=0.4, \n",
        "                    hspace=0.4)\n",
        "\n",
        "plt.show()"
      ],
      "execution_count": 20,
      "outputs": [
        {
          "output_type": "display_data",
          "data": {
            "image/png": "[encoded data removed]",
            "text/plain": [
              "<Figure size 432x288 with 2 Axes>"
            ]
          },
          "metadata": {
            "needs_background": "light"
          }
        }
      ]
    },
    {
      "cell_type": "code",
      "metadata": {
        "id": "Oml1MG8xZeX6"
      },
      "source": [
        "dataset['Distance'] = np.log2(dataset['Distance'])"
      ],
      "execution_count": 21,
      "outputs": []
    },
    {
      "cell_type": "code",
      "metadata": {
        "colab": {
          "base_uri": "https://localhost:8080/",
          "height": 317
        },
        "id": "fKW_jPeBZ0bw",
        "outputId": "c58ce519-0176-4c5c-c3f8-4d732251488f"
      },
      "source": [
        "plt.subplot(1,2,1)\n",
        "plt.hist(dataset['Distance'])\n",
        "plt.subplot(1,2,2)\n",
        "plt.boxplot(dataset['Distance'], labels=['Distance'])\n",
        "\n",
        "plt.subplots_adjust(left=0.01,\n",
        "                    bottom=0.1, \n",
        "                    right=2.5, \n",
        "                    top=1, \n",
        "                    wspace=0.4, \n",
        "                    hspace=0.4)\n",
        "\n",
        "plt.show()"
      ],
      "execution_count": 22,
      "outputs": [
        {
          "output_type": "display_data",
          "data": {
            "image/png": "[encoded data removed]",
            "text/plain": [
              "<Figure size 432x288 with 2 Axes>"
            ]
          },
          "metadata": {
            "needs_background": "light"
          }
        }
      ]
    },
    {
      "cell_type": "code",
      "metadata": {
        "colab": {
          "base_uri": "https://localhost:8080/"
        },
        "id": "PAeoLPwAaJKr",
        "outputId": "83d908b9-62b2-467f-d39b-187ad06b3dc6"
      },
      "source": [
        "sorted(dataset)\n",
        "Q1 = dataset['Distance'].quantile(0.25)\n",
        "Q3 = dataset['Distance'].quantile(0.75)\n",
        "IQR = Q3-Q1\n",
        "print(IQR)"
      ],
      "execution_count": 23,
      "outputs": [
        {
          "output_type": "stream",
          "name": "stdout",
          "text": [
            "1.9092345360768181\n"
          ]
        }
      ]
    },
    {
      "cell_type": "code",
      "metadata": {
        "colab": {
          "base_uri": "https://localhost:8080/",
          "height": 243
        },
        "id": "K8VtUeJwaJKu",
        "outputId": "765b9ba9-70bc-45ee-d480-8c3df5d96bf3"
      },
      "source": [
        "dataset[dataset['Distance'] < (Q1 - 1.5 * IQR)].head()"
      ],
      "execution_count": 24,
      "outputs": [
        {
          "output_type": "execute_result",
          "data": {
            "text/html": [
              "<div>\n",
              "<style scoped>\n",
              "    .dataframe tbody tr th:only-of-type {\n",
              "        vertical-align: middle;\n",
              "    }\n",
              "\n",
              "    .dataframe tbody tr th {\n",
              "        vertical-align: top;\n",
              "    }\n",
              "\n",
              "    .dataframe thead th {\n",
              "        text-align: right;\n",
              "    }\n",
              "</style>\n",
              "<table border=\"1\" class=\"dataframe\">\n",
              "  <thead>\n",
              "    <tr style=\"text-align: right;\">\n",
              "      <th></th>\n",
              "      <th>Unnamed: 0</th>\n",
              "      <th>Duration</th>\n",
              "      <th>Distance</th>\n",
              "      <th>PLong</th>\n",
              "      <th>PLatd</th>\n",
              "      <th>DLong</th>\n",
              "      <th>DLatd</th>\n",
              "      <th>Haversine</th>\n",
              "      <th>Pmonth</th>\n",
              "      <th>Pday</th>\n",
              "      <th>Phour</th>\n",
              "      <th>Pmin</th>\n",
              "      <th>PDweek</th>\n",
              "      <th>Dmonth</th>\n",
              "      <th>Dday</th>\n",
              "      <th>Dhour</th>\n",
              "      <th>Dmin</th>\n",
              "      <th>DDweek</th>\n",
              "      <th>Temp</th>\n",
              "      <th>Precip</th>\n",
              "      <th>Wind</th>\n",
              "      <th>Humid</th>\n",
              "      <th>Solar</th>\n",
              "      <th>Snow</th>\n",
              "      <th>GroundTemp</th>\n",
              "      <th>Dust</th>\n",
              "    </tr>\n",
              "  </thead>\n",
              "  <tbody>\n",
              "    <tr>\n",
              "      <th>0</th>\n",
              "      <td>0</td>\n",
              "      <td>1.584963</td>\n",
              "      <td>5.643856</td>\n",
              "      <td>37.544666</td>\n",
              "      <td>126.888359</td>\n",
              "      <td>37.544666</td>\n",
              "      <td>126.888359</td>\n",
              "      <td>0.0</td>\n",
              "      <td>1</td>\n",
              "      <td>1</td>\n",
              "      <td>0</td>\n",
              "      <td>0</td>\n",
              "      <td>0</td>\n",
              "      <td>1</td>\n",
              "      <td>1</td>\n",
              "      <td>0</td>\n",
              "      <td>4</td>\n",
              "      <td>0</td>\n",
              "      <td>-3.2</td>\n",
              "      <td>0.0</td>\n",
              "      <td>0.5</td>\n",
              "      <td>40.0</td>\n",
              "      <td>0.00</td>\n",
              "      <td>0.0</td>\n",
              "      <td>-2.2</td>\n",
              "      <td>25.0</td>\n",
              "    </tr>\n",
              "    <tr>\n",
              "      <th>139</th>\n",
              "      <td>140</td>\n",
              "      <td>1.000000</td>\n",
              "      <td>3.321928</td>\n",
              "      <td>37.575970</td>\n",
              "      <td>126.983063</td>\n",
              "      <td>37.575970</td>\n",
              "      <td>126.983063</td>\n",
              "      <td>0.0</td>\n",
              "      <td>1</td>\n",
              "      <td>1</td>\n",
              "      <td>0</td>\n",
              "      <td>37</td>\n",
              "      <td>0</td>\n",
              "      <td>1</td>\n",
              "      <td>1</td>\n",
              "      <td>0</td>\n",
              "      <td>40</td>\n",
              "      <td>0</td>\n",
              "      <td>-3.2</td>\n",
              "      <td>0.0</td>\n",
              "      <td>0.5</td>\n",
              "      <td>40.0</td>\n",
              "      <td>0.00</td>\n",
              "      <td>0.0</td>\n",
              "      <td>-2.2</td>\n",
              "      <td>25.0</td>\n",
              "    </tr>\n",
              "    <tr>\n",
              "      <th>524</th>\n",
              "      <td>528</td>\n",
              "      <td>1.000000</td>\n",
              "      <td>5.643856</td>\n",
              "      <td>37.481800</td>\n",
              "      <td>126.915237</td>\n",
              "      <td>37.481800</td>\n",
              "      <td>126.915237</td>\n",
              "      <td>0.0</td>\n",
              "      <td>1</td>\n",
              "      <td>1</td>\n",
              "      <td>1</td>\n",
              "      <td>57</td>\n",
              "      <td>0</td>\n",
              "      <td>1</td>\n",
              "      <td>1</td>\n",
              "      <td>2</td>\n",
              "      <td>0</td>\n",
              "      <td>0</td>\n",
              "      <td>-3.3</td>\n",
              "      <td>0.0</td>\n",
              "      <td>0.7</td>\n",
              "      <td>41.0</td>\n",
              "      <td>0.00</td>\n",
              "      <td>0.0</td>\n",
              "      <td>-2.7</td>\n",
              "      <td>39.0</td>\n",
              "    </tr>\n",
              "    <tr>\n",
              "      <th>614</th>\n",
              "      <td>618</td>\n",
              "      <td>4.169925</td>\n",
              "      <td>3.321928</td>\n",
              "      <td>37.534718</td>\n",
              "      <td>126.900002</td>\n",
              "      <td>37.534718</td>\n",
              "      <td>126.900002</td>\n",
              "      <td>0.0</td>\n",
              "      <td>1</td>\n",
              "      <td>1</td>\n",
              "      <td>2</td>\n",
              "      <td>18</td>\n",
              "      <td>0</td>\n",
              "      <td>1</td>\n",
              "      <td>1</td>\n",
              "      <td>2</td>\n",
              "      <td>38</td>\n",
              "      <td>0</td>\n",
              "      <td>-3.7</td>\n",
              "      <td>0.0</td>\n",
              "      <td>0.9</td>\n",
              "      <td>42.0</td>\n",
              "      <td>0.00</td>\n",
              "      <td>0.0</td>\n",
              "      <td>-3.0</td>\n",
              "      <td>30.0</td>\n",
              "    </tr>\n",
              "    <tr>\n",
              "      <th>1905</th>\n",
              "      <td>1936</td>\n",
              "      <td>1.000000</td>\n",
              "      <td>7.228819</td>\n",
              "      <td>37.504566</td>\n",
              "      <td>126.910233</td>\n",
              "      <td>37.504566</td>\n",
              "      <td>126.910233</td>\n",
              "      <td>0.0</td>\n",
              "      <td>1</td>\n",
              "      <td>1</td>\n",
              "      <td>12</td>\n",
              "      <td>47</td>\n",
              "      <td>0</td>\n",
              "      <td>1</td>\n",
              "      <td>1</td>\n",
              "      <td>12</td>\n",
              "      <td>50</td>\n",
              "      <td>0</td>\n",
              "      <td>1.5</td>\n",
              "      <td>0.0</td>\n",
              "      <td>2.8</td>\n",
              "      <td>20.0</td>\n",
              "      <td>1.03</td>\n",
              "      <td>0.0</td>\n",
              "      <td>0.3</td>\n",
              "      <td>60.0</td>\n",
              "    </tr>\n",
              "  </tbody>\n",
              "</table>\n",
              "</div>"
            ],
            "text/plain": [
              "      Unnamed: 0  Duration  Distance      PLong  ...  Solar  Snow  GroundTemp  Dust\n",
              "0              0  1.584963  5.643856  37.544666  ...   0.00   0.0        -2.2  25.0\n",
              "139          140  1.000000  3.321928  37.575970  ...   0.00   0.0        -2.2  25.0\n",
              "524          528  1.000000  5.643856  37.481800  ...   0.00   0.0        -2.7  39.0\n",
              "614          618  4.169925  3.321928  37.534718  ...   0.00   0.0        -3.0  30.0\n",
              "1905        1936  1.000000  7.228819  37.504566  ...   1.03   0.0         0.3  60.0\n",
              "\n",
              "[5 rows x 26 columns]"
            ]
          },
          "metadata": {},
          "execution_count": 24
        }
      ]
    },
    {
      "cell_type": "code",
      "metadata": {
        "id": "f1fvfJmMaJKx"
      },
      "source": [
        "dataset.drop(dataset[dataset['Distance'] < (Q3 - 1.5 * IQR)].index, inplace=True)\n",
        "dataset.drop(dataset[dataset['Distance'] > (Q3 + 1.5 * IQR)].index, inplace=True)"
      ],
      "execution_count": 25,
      "outputs": []
    },
    {
      "cell_type": "code",
      "metadata": {
        "colab": {
          "base_uri": "https://localhost:8080/",
          "height": 317
        },
        "id": "hbe0aQ7IZ_gE",
        "outputId": "142dd948-ba98-4d09-d031-af53b231f09f"
      },
      "source": [
        "plt.subplot(1,2,1)\n",
        "plt.hist(dataset['Distance'])\n",
        "plt.subplot(1,2,2)\n",
        "plt.boxplot(dataset['Distance'], labels=['Distance'])\n",
        "\n",
        "plt.subplots_adjust(left=0.01,\n",
        "                    bottom=0.1, \n",
        "                    right=2.5, \n",
        "                    top=1, \n",
        "                    wspace=0.4, \n",
        "                    hspace=0.4)\n",
        "\n",
        "plt.show()"
      ],
      "execution_count": 26,
      "outputs": [
        {
          "output_type": "display_data",
          "data": {
            "image/png": "[encoded data removed]",
            "text/plain": [
              "<Figure size 432x288 with 2 Axes>"
            ]
          },
          "metadata": {
            "needs_background": "light"
          }
        }
      ]
    },
    {
      "cell_type": "code",
      "metadata": {
        "colab": {
          "base_uri": "https://localhost:8080/"
        },
        "id": "vZu-ilFJZSh_",
        "outputId": "d62bc6f3-88b3-4f9d-ee06-841be0edf5e0"
      },
      "source": [
        "dataset['Distance'].skew() "
      ],
      "execution_count": 27,
      "outputs": [
        {
          "output_type": "execute_result",
          "data": {
            "text/plain": [
              "0.40898029333987523"
            ]
          },
          "metadata": {},
          "execution_count": 27
        }
      ]
    },
    {
      "cell_type": "code",
      "metadata": {
        "colab": {
          "base_uri": "https://localhost:8080/"
        },
        "id": "sf_nNyJBZHeC",
        "outputId": "d55f92d0-1c5b-4d92-8650-5387799ec7cb"
      },
      "source": [
        "np.log2(dataset['Distance']).skew() "
      ],
      "execution_count": 28,
      "outputs": [
        {
          "output_type": "execute_result",
          "data": {
            "text/plain": [
              "0.21616471590923636"
            ]
          },
          "metadata": {},
          "execution_count": 28
        }
      ]
    },
    {
      "cell_type": "markdown",
      "metadata": {
        "id": "hME5zw6GaoDb"
      },
      "source": [
        "Plong"
      ]
    },
    {
      "cell_type": "code",
      "metadata": {
        "colab": {
          "base_uri": "https://localhost:8080/",
          "height": 315
        },
        "id": "zbwVjCs7ZwrY",
        "outputId": "45947a21-cc61-494f-b255-f4eebb43a7a0"
      },
      "source": [
        "plt.subplot(1,2,1)\n",
        "plt.hist(dataset['PLong'])\n",
        "plt.subplot(1,2,2)\n",
        "plt.boxplot(dataset['PLong'], labels=['PLong'])\n",
        "\n",
        "plt.subplots_adjust(left=0.01,\n",
        "                    bottom=0.1, \n",
        "                    right=2.5, \n",
        "                    top=1, \n",
        "                    wspace=0.4, \n",
        "                    hspace=0.4)\n",
        "\n",
        "plt.show()"
      ],
      "execution_count": 29,
      "outputs": [
        {
          "output_type": "display_data",
          "data": {
            "image/png": "[encoded data removed]",
            "text/plain": [
              "<Figure size 432x288 with 2 Axes>"
            ]
          },
          "metadata": {
            "needs_background": "light"
          }
        }
      ]
    },
    {
      "cell_type": "code",
      "metadata": {
        "colab": {
          "base_uri": "https://localhost:8080/"
        },
        "id": "J0qDZzMCYOhg",
        "outputId": "1ddd044a-23fa-486d-b2f1-c85ea110cca7"
      },
      "source": [
        "sorted(dataset)\n",
        "Q1=dataset['PLong'].quantile(0.25)\n",
        "Q3=dataset['PLong'].quantile(0.75)\n",
        "IQR = Q3-Q1\n",
        "print(IQR)"
      ],
      "execution_count": 30,
      "outputs": [
        {
          "output_type": "stream",
          "name": "stdout",
          "text": [
            "0.059153999999999485\n"
          ]
        }
      ]
    },
    {
      "cell_type": "code",
      "metadata": {
        "colab": {
          "base_uri": "https://localhost:8080/",
          "height": 243
        },
        "id": "zhrlH0suYOhl",
        "outputId": "8938315c-0cd7-452a-d503-47dfa722a39e"
      },
      "source": [
        "dataset[dataset['PLong'] > (Q3 + 1.5 * IQR)].head()"
      ],
      "execution_count": 31,
      "outputs": [
        {
          "output_type": "execute_result",
          "data": {
            "text/html": [
              "<div>\n",
              "<style scoped>\n",
              "    .dataframe tbody tr th:only-of-type {\n",
              "        vertical-align: middle;\n",
              "    }\n",
              "\n",
              "    .dataframe tbody tr th {\n",
              "        vertical-align: top;\n",
              "    }\n",
              "\n",
              "    .dataframe thead th {\n",
              "        text-align: right;\n",
              "    }\n",
              "</style>\n",
              "<table border=\"1\" class=\"dataframe\">\n",
              "  <thead>\n",
              "    <tr style=\"text-align: right;\">\n",
              "      <th></th>\n",
              "      <th>Unnamed: 0</th>\n",
              "      <th>Duration</th>\n",
              "      <th>Distance</th>\n",
              "      <th>PLong</th>\n",
              "      <th>PLatd</th>\n",
              "      <th>DLong</th>\n",
              "      <th>DLatd</th>\n",
              "      <th>Haversine</th>\n",
              "      <th>Pmonth</th>\n",
              "      <th>Pday</th>\n",
              "      <th>Phour</th>\n",
              "      <th>Pmin</th>\n",
              "      <th>PDweek</th>\n",
              "      <th>Dmonth</th>\n",
              "      <th>Dday</th>\n",
              "      <th>Dhour</th>\n",
              "      <th>Dmin</th>\n",
              "      <th>DDweek</th>\n",
              "      <th>Temp</th>\n",
              "      <th>Precip</th>\n",
              "      <th>Wind</th>\n",
              "      <th>Humid</th>\n",
              "      <th>Solar</th>\n",
              "      <th>Snow</th>\n",
              "      <th>GroundTemp</th>\n",
              "      <th>Dust</th>\n",
              "    </tr>\n",
              "  </thead>\n",
              "  <tbody>\n",
              "    <tr>\n",
              "      <th>461</th>\n",
              "      <td>464</td>\n",
              "      <td>4.700440</td>\n",
              "      <td>12.866893</td>\n",
              "      <td>37.680313</td>\n",
              "      <td>127.055069</td>\n",
              "      <td>37.638649</td>\n",
              "      <td>127.066292</td>\n",
              "      <td>4.736999</td>\n",
              "      <td>1</td>\n",
              "      <td>1</td>\n",
              "      <td>1</td>\n",
              "      <td>42</td>\n",
              "      <td>0</td>\n",
              "      <td>1</td>\n",
              "      <td>1</td>\n",
              "      <td>2</td>\n",
              "      <td>10</td>\n",
              "      <td>0</td>\n",
              "      <td>-3.3</td>\n",
              "      <td>0.0</td>\n",
              "      <td>0.7</td>\n",
              "      <td>41.0</td>\n",
              "      <td>0.00</td>\n",
              "      <td>0.0</td>\n",
              "      <td>-2.7</td>\n",
              "      <td>39.0</td>\n",
              "    </tr>\n",
              "    <tr>\n",
              "      <th>523</th>\n",
              "      <td>527</td>\n",
              "      <td>4.459432</td>\n",
              "      <td>11.727070</td>\n",
              "      <td>37.676941</td>\n",
              "      <td>127.055099</td>\n",
              "      <td>37.654701</td>\n",
              "      <td>127.063400</td>\n",
              "      <td>2.578660</td>\n",
              "      <td>1</td>\n",
              "      <td>1</td>\n",
              "      <td>1</td>\n",
              "      <td>57</td>\n",
              "      <td>0</td>\n",
              "      <td>1</td>\n",
              "      <td>1</td>\n",
              "      <td>2</td>\n",
              "      <td>21</td>\n",
              "      <td>0</td>\n",
              "      <td>-3.3</td>\n",
              "      <td>0.0</td>\n",
              "      <td>0.7</td>\n",
              "      <td>41.0</td>\n",
              "      <td>0.00</td>\n",
              "      <td>0.0</td>\n",
              "      <td>-2.7</td>\n",
              "      <td>39.0</td>\n",
              "    </tr>\n",
              "    <tr>\n",
              "      <th>678</th>\n",
              "      <td>682</td>\n",
              "      <td>6.357552</td>\n",
              "      <td>14.408728</td>\n",
              "      <td>37.689720</td>\n",
              "      <td>127.045197</td>\n",
              "      <td>37.529770</td>\n",
              "      <td>127.074860</td>\n",
              "      <td>17.976564</td>\n",
              "      <td>1</td>\n",
              "      <td>1</td>\n",
              "      <td>2</td>\n",
              "      <td>37</td>\n",
              "      <td>0</td>\n",
              "      <td>1</td>\n",
              "      <td>1</td>\n",
              "      <td>4</td>\n",
              "      <td>0</td>\n",
              "      <td>0</td>\n",
              "      <td>-3.7</td>\n",
              "      <td>0.0</td>\n",
              "      <td>0.9</td>\n",
              "      <td>42.0</td>\n",
              "      <td>0.00</td>\n",
              "      <td>0.0</td>\n",
              "      <td>-3.0</td>\n",
              "      <td>30.0</td>\n",
              "    </tr>\n",
              "    <tr>\n",
              "      <th>1238</th>\n",
              "      <td>1257</td>\n",
              "      <td>6.108524</td>\n",
              "      <td>11.884171</td>\n",
              "      <td>37.669079</td>\n",
              "      <td>127.077591</td>\n",
              "      <td>37.654701</td>\n",
              "      <td>127.063400</td>\n",
              "      <td>2.028907</td>\n",
              "      <td>1</td>\n",
              "      <td>1</td>\n",
              "      <td>8</td>\n",
              "      <td>37</td>\n",
              "      <td>0</td>\n",
              "      <td>1</td>\n",
              "      <td>1</td>\n",
              "      <td>9</td>\n",
              "      <td>50</td>\n",
              "      <td>0</td>\n",
              "      <td>-5.0</td>\n",
              "      <td>0.0</td>\n",
              "      <td>1.0</td>\n",
              "      <td>55.0</td>\n",
              "      <td>0.00</td>\n",
              "      <td>0.0</td>\n",
              "      <td>-4.9</td>\n",
              "      <td>29.0</td>\n",
              "    </tr>\n",
              "    <tr>\n",
              "      <th>1288</th>\n",
              "      <td>1307</td>\n",
              "      <td>5.807355</td>\n",
              "      <td>13.816784</td>\n",
              "      <td>37.669079</td>\n",
              "      <td>127.077591</td>\n",
              "      <td>37.669079</td>\n",
              "      <td>127.077591</td>\n",
              "      <td>0.000000</td>\n",
              "      <td>1</td>\n",
              "      <td>1</td>\n",
              "      <td>9</td>\n",
              "      <td>4</td>\n",
              "      <td>0</td>\n",
              "      <td>1</td>\n",
              "      <td>1</td>\n",
              "      <td>10</td>\n",
              "      <td>1</td>\n",
              "      <td>0</td>\n",
              "      <td>-4.3</td>\n",
              "      <td>0.0</td>\n",
              "      <td>0.7</td>\n",
              "      <td>39.0</td>\n",
              "      <td>0.15</td>\n",
              "      <td>0.0</td>\n",
              "      <td>-3.6</td>\n",
              "      <td>28.0</td>\n",
              "    </tr>\n",
              "  </tbody>\n",
              "</table>\n",
              "</div>"
            ],
            "text/plain": [
              "      Unnamed: 0  Duration   Distance      PLong  ...  Solar  Snow  GroundTemp  Dust\n",
              "461          464  4.700440  12.866893  37.680313  ...   0.00   0.0        -2.7  39.0\n",
              "523          527  4.459432  11.727070  37.676941  ...   0.00   0.0        -2.7  39.0\n",
              "678          682  6.357552  14.408728  37.689720  ...   0.00   0.0        -3.0  30.0\n",
              "1238        1257  6.108524  11.884171  37.669079  ...   0.00   0.0        -4.9  29.0\n",
              "1288        1307  5.807355  13.816784  37.669079  ...   0.15   0.0        -3.6  28.0\n",
              "\n",
              "[5 rows x 26 columns]"
            ]
          },
          "metadata": {},
          "execution_count": 31
        }
      ]
    },
    {
      "cell_type": "code",
      "metadata": {
        "id": "sr0ZKnOwYOho"
      },
      "source": [
        "dataset.drop(dataset[dataset['PLong'] > (Q3 + 1.5 * IQR)].index, inplace=True)"
      ],
      "execution_count": 32,
      "outputs": []
    },
    {
      "cell_type": "code",
      "metadata": {
        "colab": {
          "base_uri": "https://localhost:8080/",
          "height": 315
        },
        "id": "G5AsddSpYDmt",
        "outputId": "ddca5272-39a3-4d20-94ec-88aa9b6067af"
      },
      "source": [
        "plt.subplot(1,2,1)\n",
        "plt.hist(dataset['PLong'])\n",
        "plt.subplot(1,2,2)\n",
        "plt.boxplot(dataset['PLong'], labels=['PLong'])\n",
        "\n",
        "plt.subplots_adjust(left=0.01,\n",
        "                    bottom=0.1, \n",
        "                    right=2.5, \n",
        "                    top=1, \n",
        "                    wspace=0.4, \n",
        "                    hspace=0.4)\n",
        "\n",
        "plt.show()"
      ],
      "execution_count": 33,
      "outputs": [
        {
          "output_type": "display_data",
          "data": {
            "image/png": "[encoded data removed]",
            "text/plain": [
              "<Figure size 432x288 with 2 Axes>"
            ]
          },
          "metadata": {
            "needs_background": "light"
          }
        }
      ]
    },
    {
      "cell_type": "markdown",
      "metadata": {
        "id": "xhVB720gabiu"
      },
      "source": [
        "**PLatd**"
      ]
    },
    {
      "cell_type": "code",
      "metadata": {
        "colab": {
          "base_uri": "https://localhost:8080/",
          "height": 315
        },
        "id": "Bnuauh7EZxX6",
        "outputId": "2c9e74ee-4fd3-4ab5-d63d-02b8fc8d9aea"
      },
      "source": [
        "plt.subplot(1,2,1)\n",
        "plt.hist(dataset['PLatd'])\n",
        "plt.subplot(1,2,2)\n",
        "plt.boxplot(dataset['PLatd'], labels=['PLatd'])\n",
        "\n",
        "plt.subplots_adjust(left=0.01,\n",
        "                    bottom=0.1, \n",
        "                    right=2.5, \n",
        "                    top=1, \n",
        "                    wspace=0.4, \n",
        "                    hspace=0.4)\n",
        "\n",
        "plt.show()"
      ],
      "execution_count": 34,
      "outputs": [
        {
          "output_type": "display_data",
          "data": {
            "image/png": "[encoded data removed]",
            "text/plain": [
              "<Figure size 432x288 with 2 Axes>"
            ]
          },
          "metadata": {
            "needs_background": "light"
          }
        }
      ]
    },
    {
      "cell_type": "markdown",
      "metadata": {
        "id": "1jrZWUYpa3vU"
      },
      "source": [
        "**DLong**"
      ]
    },
    {
      "cell_type": "code",
      "metadata": {
        "colab": {
          "base_uri": "https://localhost:8080/",
          "height": 315
        },
        "id": "dnaIs8yrav9Z",
        "outputId": "e7ade200-ab5c-4699-b232-1a8d427ff04c"
      },
      "source": [
        "plt.subplot(1,2,1)\n",
        "plt.hist(dataset['DLong'])\n",
        "plt.subplot(1,2,2)\n",
        "plt.boxplot(dataset['DLong'], labels=['DLong'])\n",
        "\n",
        "plt.subplots_adjust(left=0.01,\n",
        "                    bottom=0.1, \n",
        "                    right=2.5, \n",
        "                    top=1, \n",
        "                    wspace=0.4, \n",
        "                    hspace=0.4)\n",
        "\n",
        "plt.show()"
      ],
      "execution_count": 35,
      "outputs": [
        {
          "output_type": "display_data",
          "data": {
            "image/png": "[encoded data removed]",
            "text/plain": [
              "<Figure size 432x288 with 2 Axes>"
            ]
          },
          "metadata": {
            "needs_background": "light"
          }
        }
      ]
    },
    {
      "cell_type": "code",
      "metadata": {
        "colab": {
          "base_uri": "https://localhost:8080/"
        },
        "id": "NLHQUwZTa0_U",
        "outputId": "21d993af-e76d-4706-c489-d4ad830470f7"
      },
      "source": [
        "sorted(dataset)\n",
        "Q1=dataset['DLong'].quantile(0.25)\n",
        "Q3=dataset['DLong'].quantile(0.75)\n",
        "IQR = Q3-Q1\n",
        "print(IQR)"
      ],
      "execution_count": 36,
      "outputs": [
        {
          "output_type": "stream",
          "name": "stdout",
          "text": [
            "0.05862000000000478\n"
          ]
        }
      ]
    },
    {
      "cell_type": "code",
      "metadata": {
        "colab": {
          "base_uri": "https://localhost:8080/",
          "height": 243
        },
        "id": "zR_M-1xXxoRj",
        "outputId": "48ad07c0-06dd-4b25-977c-0bb36b7cfb49"
      },
      "source": [
        "dataset[dataset['DLong'] > (Q3 + 1.5 * IQR)].head()"
      ],
      "execution_count": 37,
      "outputs": [
        {
          "output_type": "execute_result",
          "data": {
            "text/html": [
              "<div>\n",
              "<style scoped>\n",
              "    .dataframe tbody tr th:only-of-type {\n",
              "        vertical-align: middle;\n",
              "    }\n",
              "\n",
              "    .dataframe tbody tr th {\n",
              "        vertical-align: top;\n",
              "    }\n",
              "\n",
              "    .dataframe thead th {\n",
              "        text-align: right;\n",
              "    }\n",
              "</style>\n",
              "<table border=\"1\" class=\"dataframe\">\n",
              "  <thead>\n",
              "    <tr style=\"text-align: right;\">\n",
              "      <th></th>\n",
              "      <th>Unnamed: 0</th>\n",
              "      <th>Duration</th>\n",
              "      <th>Distance</th>\n",
              "      <th>PLong</th>\n",
              "      <th>PLatd</th>\n",
              "      <th>DLong</th>\n",
              "      <th>DLatd</th>\n",
              "      <th>Haversine</th>\n",
              "      <th>Pmonth</th>\n",
              "      <th>Pday</th>\n",
              "      <th>Phour</th>\n",
              "      <th>Pmin</th>\n",
              "      <th>PDweek</th>\n",
              "      <th>Dmonth</th>\n",
              "      <th>Dday</th>\n",
              "      <th>Dhour</th>\n",
              "      <th>Dmin</th>\n",
              "      <th>DDweek</th>\n",
              "      <th>Temp</th>\n",
              "      <th>Precip</th>\n",
              "      <th>Wind</th>\n",
              "      <th>Humid</th>\n",
              "      <th>Solar</th>\n",
              "      <th>Snow</th>\n",
              "      <th>GroundTemp</th>\n",
              "      <th>Dust</th>\n",
              "    </tr>\n",
              "  </thead>\n",
              "  <tbody>\n",
              "    <tr>\n",
              "      <th>1018</th>\n",
              "      <td>1030</td>\n",
              "      <td>4.000000</td>\n",
              "      <td>11.466586</td>\n",
              "      <td>37.650127</td>\n",
              "      <td>127.035347</td>\n",
              "      <td>37.673283</td>\n",
              "      <td>127.043991</td>\n",
              "      <td>2.684907</td>\n",
              "      <td>1</td>\n",
              "      <td>1</td>\n",
              "      <td>5</td>\n",
              "      <td>47</td>\n",
              "      <td>0</td>\n",
              "      <td>1</td>\n",
              "      <td>1</td>\n",
              "      <td>6</td>\n",
              "      <td>4</td>\n",
              "      <td>0</td>\n",
              "      <td>-4.4</td>\n",
              "      <td>0.0</td>\n",
              "      <td>0.8</td>\n",
              "      <td>54.0</td>\n",
              "      <td>0.00</td>\n",
              "      <td>0.0</td>\n",
              "      <td>-4.2</td>\n",
              "      <td>29.0</td>\n",
              "    </tr>\n",
              "    <tr>\n",
              "      <th>1141</th>\n",
              "      <td>1158</td>\n",
              "      <td>4.857981</td>\n",
              "      <td>11.833681</td>\n",
              "      <td>37.654701</td>\n",
              "      <td>127.063400</td>\n",
              "      <td>37.680313</td>\n",
              "      <td>127.055069</td>\n",
              "      <td>2.940816</td>\n",
              "      <td>1</td>\n",
              "      <td>1</td>\n",
              "      <td>7</td>\n",
              "      <td>27</td>\n",
              "      <td>0</td>\n",
              "      <td>1</td>\n",
              "      <td>1</td>\n",
              "      <td>7</td>\n",
              "      <td>56</td>\n",
              "      <td>0</td>\n",
              "      <td>-4.7</td>\n",
              "      <td>0.0</td>\n",
              "      <td>1.1</td>\n",
              "      <td>56.0</td>\n",
              "      <td>0.00</td>\n",
              "      <td>0.0</td>\n",
              "      <td>-4.7</td>\n",
              "      <td>30.0</td>\n",
              "    </tr>\n",
              "    <tr>\n",
              "      <th>1413</th>\n",
              "      <td>1433</td>\n",
              "      <td>5.000000</td>\n",
              "      <td>13.065079</td>\n",
              "      <td>37.660000</td>\n",
              "      <td>127.072968</td>\n",
              "      <td>37.680313</td>\n",
              "      <td>127.055069</td>\n",
              "      <td>2.753835</td>\n",
              "      <td>1</td>\n",
              "      <td>1</td>\n",
              "      <td>10</td>\n",
              "      <td>9</td>\n",
              "      <td>0</td>\n",
              "      <td>1</td>\n",
              "      <td>1</td>\n",
              "      <td>10</td>\n",
              "      <td>43</td>\n",
              "      <td>0</td>\n",
              "      <td>-1.6</td>\n",
              "      <td>0.0</td>\n",
              "      <td>0.8</td>\n",
              "      <td>32.0</td>\n",
              "      <td>0.53</td>\n",
              "      <td>0.0</td>\n",
              "      <td>-0.8</td>\n",
              "      <td>33.0</td>\n",
              "    </tr>\n",
              "    <tr>\n",
              "      <th>2656</th>\n",
              "      <td>2711</td>\n",
              "      <td>4.584963</td>\n",
              "      <td>12.243769</td>\n",
              "      <td>37.643551</td>\n",
              "      <td>127.022346</td>\n",
              "      <td>37.673283</td>\n",
              "      <td>127.043991</td>\n",
              "      <td>3.815825</td>\n",
              "      <td>1</td>\n",
              "      <td>1</td>\n",
              "      <td>15</td>\n",
              "      <td>10</td>\n",
              "      <td>0</td>\n",
              "      <td>1</td>\n",
              "      <td>1</td>\n",
              "      <td>15</td>\n",
              "      <td>35</td>\n",
              "      <td>0</td>\n",
              "      <td>3.0</td>\n",
              "      <td>0.0</td>\n",
              "      <td>2.9</td>\n",
              "      <td>27.0</td>\n",
              "      <td>0.78</td>\n",
              "      <td>0.0</td>\n",
              "      <td>1.4</td>\n",
              "      <td>50.0</td>\n",
              "    </tr>\n",
              "    <tr>\n",
              "      <th>4909</th>\n",
              "      <td>5029</td>\n",
              "      <td>4.754888</td>\n",
              "      <td>12.360847</td>\n",
              "      <td>37.654701</td>\n",
              "      <td>127.063400</td>\n",
              "      <td>37.689720</td>\n",
              "      <td>127.045197</td>\n",
              "      <td>4.210642</td>\n",
              "      <td>1</td>\n",
              "      <td>2</td>\n",
              "      <td>1</td>\n",
              "      <td>25</td>\n",
              "      <td>1</td>\n",
              "      <td>1</td>\n",
              "      <td>2</td>\n",
              "      <td>1</td>\n",
              "      <td>53</td>\n",
              "      <td>1</td>\n",
              "      <td>-2.1</td>\n",
              "      <td>0.0</td>\n",
              "      <td>0.8</td>\n",
              "      <td>56.0</td>\n",
              "      <td>0.00</td>\n",
              "      <td>0.0</td>\n",
              "      <td>-3.0</td>\n",
              "      <td>42.0</td>\n",
              "    </tr>\n",
              "  </tbody>\n",
              "</table>\n",
              "</div>"
            ],
            "text/plain": [
              "      Unnamed: 0  Duration   Distance      PLong  ...  Solar  Snow  GroundTemp  Dust\n",
              "1018        1030  4.000000  11.466586  37.650127  ...   0.00   0.0        -4.2  29.0\n",
              "1141        1158  4.857981  11.833681  37.654701  ...   0.00   0.0        -4.7  30.0\n",
              "1413        1433  5.000000  13.065079  37.660000  ...   0.53   0.0        -0.8  33.0\n",
              "2656        2711  4.584963  12.243769  37.643551  ...   0.78   0.0         1.4  50.0\n",
              "4909        5029  4.754888  12.360847  37.654701  ...   0.00   0.0        -3.0  42.0\n",
              "\n",
              "[5 rows x 26 columns]"
            ]
          },
          "metadata": {},
          "execution_count": 37
        }
      ]
    },
    {
      "cell_type": "code",
      "metadata": {
        "id": "yP1JbDWBV3G0"
      },
      "source": [
        "dataset.drop(dataset[dataset['DLong'] > (Q3 + 1.5 * IQR)].index, inplace=True)"
      ],
      "execution_count": 38,
      "outputs": []
    },
    {
      "cell_type": "code",
      "metadata": {
        "colab": {
          "base_uri": "https://localhost:8080/",
          "height": 315
        },
        "id": "AGPYY6kPwROY",
        "outputId": "57c9f2e6-c888-4a1f-9b68-163b34a55fc0"
      },
      "source": [
        "plt.subplot(1,2,1)\n",
        "plt.hist(dataset['DLong'])\n",
        "plt.subplot(1,2,2)\n",
        "plt.boxplot(dataset['DLong'], labels=['DLong'])\n",
        "\n",
        "plt.subplots_adjust(left=0.01,\n",
        "                    bottom=0.1, \n",
        "                    right=2.5, \n",
        "                    top=1, \n",
        "                    wspace=0.4, \n",
        "                    hspace=0.4)\n",
        "\n",
        "plt.show()"
      ],
      "execution_count": 39,
      "outputs": [
        {
          "output_type": "display_data",
          "data": {
            "image/png": "[encoded data removed]",
            "text/plain": [
              "<Figure size 432x288 with 2 Axes>"
            ]
          },
          "metadata": {
            "needs_background": "light"
          }
        }
      ]
    },
    {
      "cell_type": "code",
      "metadata": {
        "colab": {
          "base_uri": "https://localhost:8080/"
        },
        "id": "ZGtJjJW2w9EB",
        "outputId": "30ca227d-566c-45cd-becb-e3bc865e49fb"
      },
      "source": [
        "dataset.shape"
      ],
      "execution_count": 40,
      "outputs": [
        {
          "output_type": "execute_result",
          "data": {
            "text/plain": [
              "(8904463, 26)"
            ]
          },
          "metadata": {},
          "execution_count": 40
        }
      ]
    },
    {
      "cell_type": "code",
      "metadata": {
        "colab": {
          "base_uri": "https://localhost:8080/",
          "height": 243
        },
        "id": "YCTQoPKQbEwj",
        "outputId": "5fff373c-0152-4e5d-e87f-390686411e6c"
      },
      "source": [
        "dataset.head()"
      ],
      "execution_count": 41,
      "outputs": [
        {
          "output_type": "execute_result",
          "data": {
            "text/html": [
              "<div>\n",
              "<style scoped>\n",
              "    .dataframe tbody tr th:only-of-type {\n",
              "        vertical-align: middle;\n",
              "    }\n",
              "\n",
              "    .dataframe tbody tr th {\n",
              "        vertical-align: top;\n",
              "    }\n",
              "\n",
              "    .dataframe thead th {\n",
              "        text-align: right;\n",
              "    }\n",
              "</style>\n",
              "<table border=\"1\" class=\"dataframe\">\n",
              "  <thead>\n",
              "    <tr style=\"text-align: right;\">\n",
              "      <th></th>\n",
              "      <th>Unnamed: 0</th>\n",
              "      <th>Duration</th>\n",
              "      <th>Distance</th>\n",
              "      <th>PLong</th>\n",
              "      <th>PLatd</th>\n",
              "      <th>DLong</th>\n",
              "      <th>DLatd</th>\n",
              "      <th>Haversine</th>\n",
              "      <th>Pmonth</th>\n",
              "      <th>Pday</th>\n",
              "      <th>Phour</th>\n",
              "      <th>Pmin</th>\n",
              "      <th>PDweek</th>\n",
              "      <th>Dmonth</th>\n",
              "      <th>Dday</th>\n",
              "      <th>Dhour</th>\n",
              "      <th>Dmin</th>\n",
              "      <th>DDweek</th>\n",
              "      <th>Temp</th>\n",
              "      <th>Precip</th>\n",
              "      <th>Wind</th>\n",
              "      <th>Humid</th>\n",
              "      <th>Solar</th>\n",
              "      <th>Snow</th>\n",
              "      <th>GroundTemp</th>\n",
              "      <th>Dust</th>\n",
              "    </tr>\n",
              "  </thead>\n",
              "  <tbody>\n",
              "    <tr>\n",
              "      <th>1</th>\n",
              "      <td>1</td>\n",
              "      <td>4.584963</td>\n",
              "      <td>12.905011</td>\n",
              "      <td>37.506199</td>\n",
              "      <td>127.003944</td>\n",
              "      <td>37.551250</td>\n",
              "      <td>127.035103</td>\n",
              "      <td>5.713529</td>\n",
              "      <td>1</td>\n",
              "      <td>1</td>\n",
              "      <td>0</td>\n",
              "      <td>0</td>\n",
              "      <td>0</td>\n",
              "      <td>1</td>\n",
              "      <td>1</td>\n",
              "      <td>0</td>\n",
              "      <td>25</td>\n",
              "      <td>0</td>\n",
              "      <td>-3.2</td>\n",
              "      <td>0.0</td>\n",
              "      <td>0.5</td>\n",
              "      <td>40.0</td>\n",
              "      <td>0.0</td>\n",
              "      <td>0.0</td>\n",
              "      <td>-2.2</td>\n",
              "      <td>25.0</td>\n",
              "    </tr>\n",
              "    <tr>\n",
              "      <th>2</th>\n",
              "      <td>2</td>\n",
              "      <td>3.000000</td>\n",
              "      <td>10.440869</td>\n",
              "      <td>37.544590</td>\n",
              "      <td>127.057083</td>\n",
              "      <td>37.537014</td>\n",
              "      <td>127.061096</td>\n",
              "      <td>0.913702</td>\n",
              "      <td>1</td>\n",
              "      <td>1</td>\n",
              "      <td>0</td>\n",
              "      <td>0</td>\n",
              "      <td>0</td>\n",
              "      <td>1</td>\n",
              "      <td>1</td>\n",
              "      <td>0</td>\n",
              "      <td>9</td>\n",
              "      <td>0</td>\n",
              "      <td>-3.2</td>\n",
              "      <td>0.0</td>\n",
              "      <td>0.5</td>\n",
              "      <td>40.0</td>\n",
              "      <td>0.0</td>\n",
              "      <td>0.0</td>\n",
              "      <td>-2.2</td>\n",
              "      <td>25.0</td>\n",
              "    </tr>\n",
              "    <tr>\n",
              "      <th>3</th>\n",
              "      <td>3</td>\n",
              "      <td>3.000000</td>\n",
              "      <td>10.829723</td>\n",
              "      <td>37.571102</td>\n",
              "      <td>127.023560</td>\n",
              "      <td>37.561447</td>\n",
              "      <td>127.034920</td>\n",
              "      <td>1.468027</td>\n",
              "      <td>1</td>\n",
              "      <td>1</td>\n",
              "      <td>0</td>\n",
              "      <td>1</td>\n",
              "      <td>0</td>\n",
              "      <td>1</td>\n",
              "      <td>1</td>\n",
              "      <td>0</td>\n",
              "      <td>10</td>\n",
              "      <td>0</td>\n",
              "      <td>-3.2</td>\n",
              "      <td>0.0</td>\n",
              "      <td>0.5</td>\n",
              "      <td>40.0</td>\n",
              "      <td>0.0</td>\n",
              "      <td>0.0</td>\n",
              "      <td>-2.2</td>\n",
              "      <td>25.0</td>\n",
              "    </tr>\n",
              "    <tr>\n",
              "      <th>4</th>\n",
              "      <td>4</td>\n",
              "      <td>2.000000</td>\n",
              "      <td>9.731319</td>\n",
              "      <td>37.573242</td>\n",
              "      <td>127.015907</td>\n",
              "      <td>37.565849</td>\n",
              "      <td>127.016403</td>\n",
              "      <td>0.823227</td>\n",
              "      <td>1</td>\n",
              "      <td>1</td>\n",
              "      <td>0</td>\n",
              "      <td>1</td>\n",
              "      <td>0</td>\n",
              "      <td>1</td>\n",
              "      <td>1</td>\n",
              "      <td>0</td>\n",
              "      <td>6</td>\n",
              "      <td>0</td>\n",
              "      <td>-3.2</td>\n",
              "      <td>0.0</td>\n",
              "      <td>0.5</td>\n",
              "      <td>40.0</td>\n",
              "      <td>0.0</td>\n",
              "      <td>0.0</td>\n",
              "      <td>-2.2</td>\n",
              "      <td>25.0</td>\n",
              "    </tr>\n",
              "    <tr>\n",
              "      <th>5</th>\n",
              "      <td>5</td>\n",
              "      <td>3.000000</td>\n",
              "      <td>10.813781</td>\n",
              "      <td>37.571102</td>\n",
              "      <td>127.023560</td>\n",
              "      <td>37.561447</td>\n",
              "      <td>127.034920</td>\n",
              "      <td>1.468027</td>\n",
              "      <td>1</td>\n",
              "      <td>1</td>\n",
              "      <td>0</td>\n",
              "      <td>1</td>\n",
              "      <td>0</td>\n",
              "      <td>1</td>\n",
              "      <td>1</td>\n",
              "      <td>0</td>\n",
              "      <td>10</td>\n",
              "      <td>0</td>\n",
              "      <td>-3.2</td>\n",
              "      <td>0.0</td>\n",
              "      <td>0.5</td>\n",
              "      <td>40.0</td>\n",
              "      <td>0.0</td>\n",
              "      <td>0.0</td>\n",
              "      <td>-2.2</td>\n",
              "      <td>25.0</td>\n",
              "    </tr>\n",
              "  </tbody>\n",
              "</table>\n",
              "</div>"
            ],
            "text/plain": [
              "   Unnamed: 0  Duration   Distance      PLong  ...  Solar  Snow  GroundTemp  Dust\n",
              "1           1  4.584963  12.905011  37.506199  ...    0.0   0.0        -2.2  25.0\n",
              "2           2  3.000000  10.440869  37.544590  ...    0.0   0.0        -2.2  25.0\n",
              "3           3  3.000000  10.829723  37.571102  ...    0.0   0.0        -2.2  25.0\n",
              "4           4  2.000000   9.731319  37.573242  ...    0.0   0.0        -2.2  25.0\n",
              "5           5  3.000000  10.813781  37.571102  ...    0.0   0.0        -2.2  25.0\n",
              "\n",
              "[5 rows x 26 columns]"
            ]
          },
          "metadata": {},
          "execution_count": 41
        }
      ]
    },
    {
      "cell_type": "code",
      "metadata": {
        "id": "tBUFvVqqJGPq"
      },
      "source": [
        "import seaborn as sns"
      ],
      "execution_count": 42,
      "outputs": []
    },
    {
      "cell_type": "code",
      "metadata": {
        "id": "wpt1SzdQJV6D"
      },
      "source": [
        "correlation = dataset.corr()"
      ],
      "execution_count": 43,
      "outputs": []
    },
    {
      "cell_type": "code",
      "metadata": {
        "colab": {
          "base_uri": "https://localhost:8080/",
          "height": 975
        },
        "id": "oBe5ybv3Ja3w",
        "outputId": "1fe74393-f631-4701-ab74-c299b25016cd"
      },
      "source": [
        "plt.figure(figsize = (16,16))\n",
        "sns.heatmap(correlation, linewidths=.5)\n",
        "plt.show()"
      ],
      "execution_count": 44,
      "outputs": [
        {
          "output_type": "display_data",
          "data": {
            "image/png": "[encoded data removed]",
            "text/plain": [
              "<Figure size 1152x1152 with 2 Axes>"
            ]
          },
          "metadata": {
            "needs_background": "light"
          }
        }
      ]
    },
    {
      "cell_type": "markdown",
      "metadata": {
        "id": "M1nk303LAVIv"
      },
      "source": [
        "# **Preparing the Data**"
      ]
    },
    {
      "cell_type": "code",
      "metadata": {
        "id": "keoEFsH5Fx7Z"
      },
      "source": [
        "X = dataset.drop(columns=['Duration'])\n",
        "Y = dataset['Duration']"
      ],
      "execution_count": 45,
      "outputs": []
    },
    {
      "cell_type": "code",
      "metadata": {
        "id": "qlZnqP3TIp8v"
      },
      "source": [
        "from sklearn.model_selection import train_test_split"
      ],
      "execution_count": 46,
      "outputs": []
    },
    {
      "cell_type": "code",
      "metadata": {
        "id": "GRQa9bBBK8Fd"
      },
      "source": [
        "X_train, X_test, Y_train, Y_test = train_test_split(X, Y, test_size=0.30, random_state=10) "
      ],
      "execution_count": 47,
      "outputs": []
    },
    {
      "cell_type": "code",
      "metadata": {
        "colab": {
          "base_uri": "https://localhost:8080/"
        },
        "id": "Kj9M9oxyLbXD",
        "outputId": "2b414c69-ff85-4a8d-ece8-1b3d2406be30"
      },
      "source": [
        "print(\"X_Train Shape: \", X_train.shape)\n",
        "print(\"Y_Train Shape: \", Y_train.shape)\n",
        "print(\"\\nX_Test Shape: \", X_test.shape)\n",
        "print(\"Y_Test Shape: \", Y_test.shape)"
      ],
      "execution_count": 48,
      "outputs": [
        {
          "output_type": "stream",
          "name": "stdout",
          "text": [
            "X_Train Shape:  (6233124, 25)\n",
            "Y_Train Shape:  (6233124,)\n",
            "\n",
            "X_Test Shape:  (2671339, 25)\n",
            "Y_Test Shape:  (2671339,)\n"
          ]
        }
      ]
    },
    {
      "cell_type": "markdown",
      "metadata": {
        "id": "VQjgYCYlMyw6"
      },
      "source": [
        "# **Model Building and Evaluation**"
      ]
    },
    {
      "cell_type": "markdown",
      "metadata": {
        "id": "dj5OzIFDARbz"
      },
      "source": [
        "## **1. Linear Regression**"
      ]
    },
    {
      "cell_type": "code",
      "metadata": {
        "id": "jXMBtrE_Lody"
      },
      "source": [
        "from sklearn.linear_model import LinearRegression"
      ],
      "execution_count": 50,
      "outputs": []
    },
    {
      "cell_type": "code",
      "metadata": {
        "id": "yIIZ8SU0M4J2",
        "colab": {
          "base_uri": "https://localhost:8080/"
        },
        "outputId": "d371ea5d-7fc8-4df1-8884-57797843aeae"
      },
      "source": [
        "LR = LinearRegression()\n",
        "LR.fit(X_train, Y_train)"
      ],
      "execution_count": 51,
      "outputs": [
        {
          "output_type": "execute_result",
          "data": {
            "text/plain": [
              "LinearRegression(copy_X=True, fit_intercept=True, n_jobs=None, normalize=False)"
            ]
          },
          "metadata": {},
          "execution_count": 51
        }
      ]
    },
    {
      "cell_type": "code",
      "metadata": {
        "id": "o9ZJgnj_M_Ds"
      },
      "source": [
        "LRPrediction = LR.predict(X_test)"
      ],
      "execution_count": 52,
      "outputs": []
    },
    {
      "cell_type": "code",
      "metadata": {
        "id": "t1xsCYoVNLYW",
        "colab": {
          "base_uri": "https://localhost:8080/"
        },
        "outputId": "b2d82ec7-d6a4-409c-b025-a30dead79ad1"
      },
      "source": [
        "print(\"Slope: \", LR.coef_)\n",
        "print(\"Intercept: \", LR.intercept_)"
      ],
      "execution_count": 53,
      "outputs": [
        {
          "output_type": "stream",
          "name": "stdout",
          "text": [
            "Slope:  [ 1.51010587e-10  9.84814604e-01 -2.18438655e-01  7.95292526e-02\n",
            "  1.89767402e-01  4.78127320e-02 -8.54667331e-02 -1.07654431e-01\n",
            " -1.55988751e-03  1.86393090e-03 -6.51568041e-05 -2.33183118e-03\n",
            "  1.06780782e-01  1.08926177e-03  9.71433676e-03 -3.76489392e-04\n",
            "  1.67611269e-02  7.99194258e-03  9.58913797e-03  1.11880028e-02\n",
            " -2.12161356e-03  6.97520982e-02  3.38817796e-02 -2.84863517e-03\n",
            "  1.15294304e-04]\n",
            "Intercept:  -22.204164193899874\n"
          ]
        }
      ]
    },
    {
      "cell_type": "code",
      "metadata": {
        "id": "hKtFSAjvNpjh"
      },
      "source": [
        "from sklearn import metrics"
      ],
      "execution_count": 54,
      "outputs": []
    },
    {
      "cell_type": "code",
      "metadata": {
        "id": "UkygTmtDNywp",
        "colab": {
          "base_uri": "https://localhost:8080/"
        },
        "outputId": "60c93ef4-6210-461f-cb14-0c0bbd4167db"
      },
      "source": [
        "#MAE\n",
        "print(\"MAE:\", round(metrics.mean_absolute_error(Y_test, LRPrediction), 3) )\n",
        "\n",
        "#MSE\n",
        "print(\"MSE:\", round(metrics.mean_squared_error(Y_test, LRPrediction), 3) )\n",
        "\n",
        "#RMSE\n",
        "print(\"RMSE: \", round(np.sqrt(metrics.mean_absolute_error(Y_test, LRPrediction)), 3) )"
      ],
      "execution_count": 55,
      "outputs": [
        {
          "output_type": "stream",
          "name": "stdout",
          "text": [
            "MAE: 0.489\n",
            "MSE: 0.492\n",
            "RMSE:  0.699\n"
          ]
        }
      ]
    },
    {
      "cell_type": "markdown",
      "metadata": {
        "id": "c-gKbvn8AIk7"
      },
      "source": [
        "## **2. Decision Tree Regression**"
      ]
    },
    {
      "cell_type": "code",
      "metadata": {
        "id": "sePupOmXRhkn"
      },
      "source": [
        "from sklearn.tree import DecisionTreeRegressor"
      ],
      "execution_count": 56,
      "outputs": []
    },
    {
      "cell_type": "code",
      "metadata": {
        "id": "7zKuwzulRh5B",
        "colab": {
          "base_uri": "https://localhost:8080/"
        },
        "outputId": "5bee2738-7083-4165-a2d7-fba89af1220e"
      },
      "source": [
        "DTR = DecisionTreeRegressor()\n",
        "DTR.fit(X_train,Y_train)"
      ],
      "execution_count": 57,
      "outputs": [
        {
          "output_type": "execute_result",
          "data": {
            "text/plain": [
              "DecisionTreeRegressor(ccp_alpha=0.0, criterion='mse', max_depth=None,\n",
              "                      max_features=None, max_leaf_nodes=None,\n",
              "                      min_impurity_decrease=0.0, min_impurity_split=None,\n",
              "                      min_samples_leaf=1, min_samples_split=2,\n",
              "                      min_weight_fraction_leaf=0.0, presort='deprecated',\n",
              "                      random_state=None, splitter='best')"
            ]
          },
          "metadata": {},
          "execution_count": 57
        }
      ]
    },
    {
      "cell_type": "code",
      "metadata": {
        "id": "kQI_ExKGRjR7"
      },
      "source": [
        "DTRPrediction = DTR.predict(X_test)"
      ],
      "execution_count": 58,
      "outputs": []
    },
    {
      "cell_type": "code",
      "metadata": {
        "id": "MvcAXTPeRpHL",
        "colab": {
          "base_uri": "https://localhost:8080/"
        },
        "outputId": "4036277c-a457-425f-a57a-c9864a5d0f78"
      },
      "source": [
        "#MAE\n",
        "print(\"MAE:\", round(metrics.mean_absolute_error(Y_test, DTRPrediction), 3) )\n",
        "\n",
        "#MSE\n",
        "print(\"MSE:\", round(metrics.mean_squared_error(Y_test, DTRPrediction), 3) )\n",
        "\n",
        "#RMSE\n",
        "print(\"RMSE: \", round(np.sqrt(metrics.mean_absolute_error(Y_test, DTRPrediction)), 3) )"
      ],
      "execution_count": 59,
      "outputs": [
        {
          "output_type": "stream",
          "name": "stdout",
          "text": [
            "MAE: 0.295\n",
            "MSE: 0.278\n",
            "RMSE:  0.543\n"
          ]
        }
      ]
    },
    {
      "cell_type": "markdown",
      "metadata": {
        "id": "ML_dIoOmADet"
      },
      "source": [
        "## **3. Ridge Regression**"
      ]
    },
    {
      "cell_type": "code",
      "metadata": {
        "id": "O6cJFuc0hvXO"
      },
      "source": [
        "from sklearn.linear_model import Ridge"
      ],
      "execution_count": 60,
      "outputs": []
    },
    {
      "cell_type": "code",
      "metadata": {
        "id": "Pqgekf4nhvnB",
        "colab": {
          "base_uri": "https://localhost:8080/"
        },
        "outputId": "ef6da562-49a2-45a9-db22-483a27b339e6"
      },
      "source": [
        "ridgeReg = Ridge(alpha=0.05, normalize=True)\n",
        "\n",
        "ridgeReg.fit(X_train,Y_train)"
      ],
      "execution_count": 61,
      "outputs": [
        {
          "output_type": "execute_result",
          "data": {
            "text/plain": [
              "Ridge(alpha=0.05, copy_X=True, fit_intercept=True, max_iter=None,\n",
              "      normalize=True, random_state=None, solver='auto', tol=0.001)"
            ]
          },
          "metadata": {},
          "execution_count": 61
        }
      ]
    },
    {
      "cell_type": "code",
      "metadata": {
        "id": "Uh9RN0qyhxY7"
      },
      "source": [
        "RidgePredication = ridgeReg.predict(X_test)"
      ],
      "execution_count": 62,
      "outputs": []
    },
    {
      "cell_type": "code",
      "metadata": {
        "id": "m16sSa0gh0Op",
        "colab": {
          "base_uri": "https://localhost:8080/"
        },
        "outputId": "39d692dd-b6ea-4ae4-f303-31d56139be2c"
      },
      "source": [
        "#MAE\n",
        "print(\"MAE:\", round(metrics.mean_absolute_error(Y_test, RidgePredication), 3) )\n",
        "\n",
        "#MSE\n",
        "print(\"MSE:\", round(metrics.mean_squared_error(Y_test, RidgePredication), 3) )\n",
        "\n",
        "#RMSE\n",
        "print(\"RMSE: \", round(np.sqrt(metrics.mean_absolute_error(Y_test, RidgePredication)), 3) )"
      ],
      "execution_count": 63,
      "outputs": [
        {
          "output_type": "stream",
          "name": "stdout",
          "text": [
            "MAE: 0.496\n",
            "MSE: 0.498\n",
            "RMSE:  0.704\n"
          ]
        }
      ]
    },
    {
      "cell_type": "markdown",
      "metadata": {
        "id": "nGTxiAgX_4Bb"
      },
      "source": [
        "## **4. Lasso Regression**"
      ]
    },
    {
      "cell_type": "code",
      "metadata": {
        "id": "usn6utY4h88R"
      },
      "source": [
        "from sklearn.linear_model import Lasso"
      ],
      "execution_count": 64,
      "outputs": []
    },
    {
      "cell_type": "code",
      "metadata": {
        "id": "EtIegVbDiF_k",
        "colab": {
          "base_uri": "https://localhost:8080/"
        },
        "outputId": "2963c5fb-862c-4a4d-d182-c2b553a7a40e"
      },
      "source": [
        "lassoReg = Lasso(alpha=1, normalize=True)\n",
        "lassoReg.fit(X_train,Y_train)"
      ],
      "execution_count": 65,
      "outputs": [
        {
          "output_type": "execute_result",
          "data": {
            "text/plain": [
              "Lasso(alpha=1, copy_X=True, fit_intercept=True, max_iter=1000, normalize=True,\n",
              "      positive=False, precompute=False, random_state=None, selection='cyclic',\n",
              "      tol=0.0001, warm_start=False)"
            ]
          },
          "metadata": {},
          "execution_count": 65
        }
      ]
    },
    {
      "cell_type": "code",
      "metadata": {
        "id": "3uwCbtIXiDhQ"
      },
      "source": [
        "LassoPrediction = lassoReg.predict(X_test)"
      ],
      "execution_count": 66,
      "outputs": []
    },
    {
      "cell_type": "code",
      "metadata": {
        "id": "7mlI0-FhiGl2",
        "colab": {
          "base_uri": "https://localhost:8080/"
        },
        "outputId": "c312b388-9693-4208-8ff8-ffd9f6eb5580"
      },
      "source": [
        "#MAE\n",
        "print(\"MAE:\", round(metrics.mean_absolute_error(Y_test, LassoPrediction), 3) )\n",
        "\n",
        "#MSE\n",
        "print(\"MSE:\", round(metrics.mean_squared_error(Y_test, LassoPrediction), 3) )\n",
        "\n",
        "#RMSE\n",
        "print(\"RMSE: \", round(np.sqrt(metrics.mean_absolute_error(Y_test, LassoPrediction)), 3) )"
      ],
      "execution_count": 67,
      "outputs": [
        {
          "output_type": "stream",
          "name": "stdout",
          "text": [
            "MAE: 1.115\n",
            "MSE: 1.759\n",
            "RMSE:  1.056\n"
          ]
        }
      ]
    },
    {
      "cell_type": "markdown",
      "metadata": {
        "id": "u3AWs1cj_2u8"
      },
      "source": [
        "## **5. Elastic Net Regression Model**"
      ]
    },
    {
      "cell_type": "code",
      "metadata": {
        "id": "e-DVJ5QciOKH"
      },
      "source": [
        "from sklearn.linear_model import ElasticNet"
      ],
      "execution_count": 68,
      "outputs": []
    },
    {
      "cell_type": "code",
      "metadata": {
        "id": "loahW5VQiV-F",
        "colab": {
          "base_uri": "https://localhost:8080/"
        },
        "outputId": "7e24e1ad-44e9-41d0-df3f-7d10c32bebb0"
      },
      "source": [
        "ENreg = ElasticNet(alpha=0.001, l1_ratio=0.5, normalize=False)\n",
        "ENreg.fit(X_train,Y_train)"
      ],
      "execution_count": 69,
      "outputs": [
        {
          "output_type": "execute_result",
          "data": {
            "text/plain": [
              "ElasticNet(alpha=0.001, copy_X=True, fit_intercept=True, l1_ratio=0.5,\n",
              "           max_iter=1000, normalize=False, positive=False, precompute=False,\n",
              "           random_state=None, selection='cyclic', tol=0.0001, warm_start=False)"
            ]
          },
          "metadata": {},
          "execution_count": 69
        }
      ]
    },
    {
      "cell_type": "code",
      "metadata": {
        "id": "wfMW2MtiiZrq"
      },
      "source": [
        "ElasticNetPrediction = ENreg.predict(X_test)"
      ],
      "execution_count": 70,
      "outputs": []
    },
    {
      "cell_type": "code",
      "metadata": {
        "id": "trIgk_hHiZ7a",
        "colab": {
          "base_uri": "https://localhost:8080/"
        },
        "outputId": "72e82a6c-2b6e-47af-ca6b-f2331d4ce7c5"
      },
      "source": [
        "#MAE\n",
        "print(\"MAE:\", round(metrics.mean_absolute_error(Y_test, ElasticNetPrediction), 3) )\n",
        "\n",
        "#MSE\n",
        "print(\"MSE:\", round(metrics.mean_squared_error(Y_test, ElasticNetPrediction), 3) )\n",
        "\n",
        "#RMSE\n",
        "print(\"RMSE: \", round(np.sqrt(metrics.mean_absolute_error(Y_test, ElasticNetPrediction)), 3) )"
      ],
      "execution_count": 71,
      "outputs": [
        {
          "output_type": "stream",
          "name": "stdout",
          "text": [
            "MAE: 0.489\n",
            "MSE: 0.493\n",
            "RMSE:  0.699\n"
          ]
        }
      ]
    },
    {
      "cell_type": "markdown",
      "metadata": {
        "id": "khao3ctbbh8o"
      },
      "source": [
        "# **Saving the Best Model**"
      ]
    },
    {
      "cell_type": "code",
      "metadata": {
        "id": "bNAb-c4pbmCz"
      },
      "source": [
        "import pickle"
      ],
      "execution_count": 72,
      "outputs": []
    },
    {
      "cell_type": "code",
      "metadata": {
        "id": "z4mxabnI9e9D"
      },
      "source": [
        "import joblib"
      ],
      "execution_count": 73,
      "outputs": []
    },
    {
      "cell_type": "code",
      "metadata": {
        "id": "xr1T9zYSb0qa"
      },
      "source": [
        "filename = 'Seoul_model.sav'"
      ],
      "execution_count": 74,
      "outputs": []
    },
    {
      "cell_type": "code",
      "metadata": {
        "id": "afiJ3nCVb-QP"
      },
      "source": [
        "pickle.dump(DTR, open(filename, 'wb'))"
      ],
      "execution_count": 75,
      "outputs": []
    },
    {
      "cell_type": "code",
      "metadata": {
        "id": "9lGBFzfMcHri"
      },
      "source": [
        "loaded_model = pickle.load(open(filename, 'rb'))"
      ],
      "execution_count": 76,
      "outputs": []
    },
    {
      "cell_type": "code",
      "metadata": {
        "id": "LcSGHyFncIz1"
      },
      "source": [
        "loadedprediction = loaded_model.predict(X_test)"
      ],
      "execution_count": 77,
      "outputs": []
    },
    {
      "cell_type": "code",
      "metadata": {
        "id": "SeDJaO3O_k8w",
        "colab": {
          "base_uri": "https://localhost:8080/"
        },
        "outputId": "07bae864-6a33-451d-e313-9664863335c4"
      },
      "source": [
        "#MAE\n",
        "print(\"MAE:\", round(metrics.mean_absolute_error(Y_test, loadedprediction), 3) )\n",
        "\n",
        "#MSE\n",
        "print(\"MSE:\", round(metrics.mean_squared_error(Y_test, loadedprediction), 3) )\n",
        "\n",
        "#RMSE\n",
        "print(\"RMSE: \", round(np.sqrt(metrics.mean_absolute_error(Y_test, loadedprediction)), 3) )"
      ],
      "execution_count": 78,
      "outputs": [
        {
          "output_type": "stream",
          "name": "stdout",
          "text": [
            "MAE: 0.295\n",
            "MSE: 0.278\n",
            "RMSE:  0.543\n"
          ]
        }
      ]
    }
  ]
}